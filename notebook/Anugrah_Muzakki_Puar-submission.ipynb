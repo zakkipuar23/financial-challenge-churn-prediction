{
 "cells": [
  {
   "cell_type": "markdown",
   "metadata": {},
   "source": [
    "# Objective : Predict whether the customer will churn or not\n",
    "\n",
    "# Strategy : Create mahine learning model which could predict it accurately\n",
    "## To achieve that, I will divide the process into some parts : \n",
    "- 0. Preparation : \n",
    "    - 0.1 Import package needed\n",
    "    - 0.2 Read data \n",
    "- 1. Exploratory Data analysis & data understanding\n",
    "\t- 1.1 check total number of null value\n",
    "\t- 1.2 check whether the dataset is imbalance or not\n",
    "\t- 1.3 check whether there is any categorical feature, or not\n",
    "\t- 1.4 Test the correlation\n",
    "\t- 1.5 Interactive visualization\n",
    "\t\t- 1.5.1 Know which value of categorical feature has highest  percentage of churn\n",
    "\t\t- 1.5.2 Analyze the distribution of numerical feature\n",
    "\n",
    "- 2. Feature Engineering\n",
    "\t- 2.1 Encode the categorical feature\n",
    "\t- 2.2 Remove outlier \n",
    "\t- 2.3 Feature selection\n",
    "\t\t- 2.3.1 Import the needed package for modelling\n",
    "\t\t- 2.3.2 Define feature and target then conduct train test split\n",
    "\t\t- 2.3.3 Create baseline model \n",
    "\t\t- 2.3.4 Feature importance and Feature impact\n",
    "\n",
    "- 3. Modelling \n",
    "\t- 3.1 Define feature and target then conduct train test split\n",
    "\t- 3.2 Try Random Forest and LGBM with selected feature only\n",
    "\t- 3.3 Decide chosen model based on performance\n",
    "\t\t- 3.3.1 By accuracy\n",
    "\t\t- 3.3.2 By Confusion matrix\n",
    "\t\t- 3.3.3 By PR curve\n",
    "\t- 3.4 Hyperparameter tuning \n",
    "\n",
    "- 4. Evaluation. \n",
    "\t- 4.1 Check accuracy\n",
    "\t- 4.2 Check confusion matrix \n",
    "\t- 4.3 Check PR curve\n",
    "\t- 4.4 Use K-FOLD to know the stability of final model\n",
    "\n",
    "- 5. Predict Testing Data and Submission "
   ]
  },
  {
   "cell_type": "markdown",
   "metadata": {},
   "source": [
    "# 0. Preparation\n",
    "## 0.1 Import Basic Package Needed"
   ]
  },
  {
   "cell_type": "code",
   "execution_count": 1,
   "metadata": {},
   "outputs": [
    {
     "name": "stderr",
     "output_type": "stream",
     "text": [
      "In D:\\Users\\bsi80086\\AppData\\Local\\Continuum\\anaconda3\\lib\\site-packages\\matplotlib\\mpl-data\\stylelib\\_classic_test.mplstyle: \n",
      "The text.latex.preview rcparam was deprecated in Matplotlib 3.3 and will be removed two minor releases later.\n",
      "In D:\\Users\\bsi80086\\AppData\\Local\\Continuum\\anaconda3\\lib\\site-packages\\matplotlib\\mpl-data\\stylelib\\_classic_test.mplstyle: \n",
      "The mathtext.fallback_to_cm rcparam was deprecated in Matplotlib 3.3 and will be removed two minor releases later.\n",
      "In D:\\Users\\bsi80086\\AppData\\Local\\Continuum\\anaconda3\\lib\\site-packages\\matplotlib\\mpl-data\\stylelib\\_classic_test.mplstyle: Support for setting the 'mathtext.fallback_to_cm' rcParam is deprecated since 3.3 and will be removed two minor releases later; use 'mathtext.fallback : 'cm' instead.\n",
      "In D:\\Users\\bsi80086\\AppData\\Local\\Continuum\\anaconda3\\lib\\site-packages\\matplotlib\\mpl-data\\stylelib\\_classic_test.mplstyle: \n",
      "The validate_bool_maybe_none function was deprecated in Matplotlib 3.3 and will be removed two minor releases later.\n",
      "In D:\\Users\\bsi80086\\AppData\\Local\\Continuum\\anaconda3\\lib\\site-packages\\matplotlib\\mpl-data\\stylelib\\_classic_test.mplstyle: \n",
      "The savefig.jpeg_quality rcparam was deprecated in Matplotlib 3.3 and will be removed two minor releases later.\n",
      "In D:\\Users\\bsi80086\\AppData\\Local\\Continuum\\anaconda3\\lib\\site-packages\\matplotlib\\mpl-data\\stylelib\\_classic_test.mplstyle: \n",
      "The keymap.all_axes rcparam was deprecated in Matplotlib 3.3 and will be removed two minor releases later.\n",
      "In D:\\Users\\bsi80086\\AppData\\Local\\Continuum\\anaconda3\\lib\\site-packages\\matplotlib\\mpl-data\\stylelib\\_classic_test.mplstyle: \n",
      "The animation.avconv_path rcparam was deprecated in Matplotlib 3.3 and will be removed two minor releases later.\n",
      "In D:\\Users\\bsi80086\\AppData\\Local\\Continuum\\anaconda3\\lib\\site-packages\\matplotlib\\mpl-data\\stylelib\\_classic_test.mplstyle: \n",
      "The animation.avconv_args rcparam was deprecated in Matplotlib 3.3 and will be removed two minor releases later.\n"
     ]
    }
   ],
   "source": [
    "import pandas as pd\n",
    "import numpy as np\n",
    "\n",
    "import matplotlib.pyplot as plt\n",
    "import seaborn as sns\n",
    "import plotly.express as px\n",
    "\n",
    "from ipywidgets import interact, interact_manual #for interactive visualization"
   ]
  },
  {
   "cell_type": "markdown",
   "metadata": {},
   "source": [
    "## 0.2 Read Data"
   ]
  },
  {
   "cell_type": "code",
   "execution_count": 2,
   "metadata": {},
   "outputs": [],
   "source": [
    "data = pd.read_csv('findata_challenge_train.csv')"
   ]
  },
  {
   "cell_type": "code",
   "execution_count": 3,
   "metadata": {},
   "outputs": [
    {
     "data": {
      "text/html": [
       "<div>\n",
       "<style scoped>\n",
       "    .dataframe tbody tr th:only-of-type {\n",
       "        vertical-align: middle;\n",
       "    }\n",
       "\n",
       "    .dataframe tbody tr th {\n",
       "        vertical-align: top;\n",
       "    }\n",
       "\n",
       "    .dataframe thead th {\n",
       "        text-align: right;\n",
       "    }\n",
       "</style>\n",
       "<table border=\"1\" class=\"dataframe\">\n",
       "  <thead>\n",
       "    <tr style=\"text-align: right;\">\n",
       "      <th></th>\n",
       "      <th>x0</th>\n",
       "      <th>x1</th>\n",
       "      <th>x2</th>\n",
       "      <th>x3</th>\n",
       "      <th>x4</th>\n",
       "      <th>x5</th>\n",
       "      <th>x6</th>\n",
       "      <th>x7</th>\n",
       "      <th>x8</th>\n",
       "      <th>x9</th>\n",
       "      <th>...</th>\n",
       "      <th>x116</th>\n",
       "      <th>x117</th>\n",
       "      <th>x118</th>\n",
       "      <th>x119</th>\n",
       "      <th>x120</th>\n",
       "      <th>x121</th>\n",
       "      <th>x122</th>\n",
       "      <th>x123</th>\n",
       "      <th>x124</th>\n",
       "      <th>y</th>\n",
       "    </tr>\n",
       "  </thead>\n",
       "  <tbody>\n",
       "    <tr>\n",
       "      <td>0</td>\n",
       "      <td>0.067563</td>\n",
       "      <td>-2.172492</td>\n",
       "      <td>-1.713774</td>\n",
       "      <td>-0.146854</td>\n",
       "      <td>-0.685219</td>\n",
       "      <td>-0.933838</td>\n",
       "      <td>4.0</td>\n",
       "      <td>2.0</td>\n",
       "      <td>-4.476051</td>\n",
       "      <td>-1.472306</td>\n",
       "      <td>...</td>\n",
       "      <td>4.607926</td>\n",
       "      <td>52.0</td>\n",
       "      <td>1.0</td>\n",
       "      <td>0.773809</td>\n",
       "      <td>0.766531</td>\n",
       "      <td>6.307142</td>\n",
       "      <td>9.074515</td>\n",
       "      <td>-2.694049</td>\n",
       "      <td>0.330964</td>\n",
       "      <td>0</td>\n",
       "    </tr>\n",
       "    <tr>\n",
       "      <td>1</td>\n",
       "      <td>0.099622</td>\n",
       "      <td>0.584803</td>\n",
       "      <td>-6.089758</td>\n",
       "      <td>-0.252186</td>\n",
       "      <td>-0.334912</td>\n",
       "      <td>-4.671281</td>\n",
       "      <td>4.0</td>\n",
       "      <td>2.0</td>\n",
       "      <td>-0.387076</td>\n",
       "      <td>-0.664552</td>\n",
       "      <td>...</td>\n",
       "      <td>15.889763</td>\n",
       "      <td>53.0</td>\n",
       "      <td>1.0</td>\n",
       "      <td>7.065852</td>\n",
       "      <td>0.994304</td>\n",
       "      <td>-0.028411</td>\n",
       "      <td>-21.472850</td>\n",
       "      <td>5.626095</td>\n",
       "      <td>1.293455</td>\n",
       "      <td>0</td>\n",
       "    </tr>\n",
       "    <tr>\n",
       "      <td>2</td>\n",
       "      <td>0.648421</td>\n",
       "      <td>3.881137</td>\n",
       "      <td>0.961359</td>\n",
       "      <td>0.217361</td>\n",
       "      <td>-1.471850</td>\n",
       "      <td>-0.975352</td>\n",
       "      <td>5.0</td>\n",
       "      <td>1.0</td>\n",
       "      <td>-0.850146</td>\n",
       "      <td>-4.011487</td>\n",
       "      <td>...</td>\n",
       "      <td>13.770410</td>\n",
       "      <td>53.0</td>\n",
       "      <td>1.0</td>\n",
       "      <td>-8.598553</td>\n",
       "      <td>-2.958302</td>\n",
       "      <td>-12.784030</td>\n",
       "      <td>-36.855873</td>\n",
       "      <td>0.356093</td>\n",
       "      <td>1.499790</td>\n",
       "      <td>0</td>\n",
       "    </tr>\n",
       "    <tr>\n",
       "      <td>3</td>\n",
       "      <td>0.005775</td>\n",
       "      <td>-2.726153</td>\n",
       "      <td>2.891378</td>\n",
       "      <td>-0.038325</td>\n",
       "      <td>2.280847</td>\n",
       "      <td>1.761478</td>\n",
       "      <td>3.0</td>\n",
       "      <td>3.0</td>\n",
       "      <td>9.116188</td>\n",
       "      <td>-4.610151</td>\n",
       "      <td>...</td>\n",
       "      <td>5.904901</td>\n",
       "      <td>50.0</td>\n",
       "      <td>1.0</td>\n",
       "      <td>8.194975</td>\n",
       "      <td>-7.798308</td>\n",
       "      <td>10.910515</td>\n",
       "      <td>15.226094</td>\n",
       "      <td>-10.440813</td>\n",
       "      <td>-0.735116</td>\n",
       "      <td>0</td>\n",
       "    </tr>\n",
       "    <tr>\n",
       "      <td>4</td>\n",
       "      <td>0.044396</td>\n",
       "      <td>2.803576</td>\n",
       "      <td>-1.923381</td>\n",
       "      <td>-0.116657</td>\n",
       "      <td>-1.574199</td>\n",
       "      <td>6.098627</td>\n",
       "      <td>3.0</td>\n",
       "      <td>1.0</td>\n",
       "      <td>-13.956141</td>\n",
       "      <td>13.785099</td>\n",
       "      <td>...</td>\n",
       "      <td>-14.603703</td>\n",
       "      <td>47.0</td>\n",
       "      <td>0.0</td>\n",
       "      <td>2.330789</td>\n",
       "      <td>-8.249825</td>\n",
       "      <td>-12.680490</td>\n",
       "      <td>40.192302</td>\n",
       "      <td>-5.037065</td>\n",
       "      <td>1.679262</td>\n",
       "      <td>1</td>\n",
       "    </tr>\n",
       "  </tbody>\n",
       "</table>\n",
       "<p>5 rows × 126 columns</p>\n",
       "</div>"
      ],
      "text/plain": [
       "         x0        x1        x2        x3        x4        x5   x6   x7  \\\n",
       "0  0.067563 -2.172492 -1.713774 -0.146854 -0.685219 -0.933838  4.0  2.0   \n",
       "1  0.099622  0.584803 -6.089758 -0.252186 -0.334912 -4.671281  4.0  2.0   \n",
       "2  0.648421  3.881137  0.961359  0.217361 -1.471850 -0.975352  5.0  1.0   \n",
       "3  0.005775 -2.726153  2.891378 -0.038325  2.280847  1.761478  3.0  3.0   \n",
       "4  0.044396  2.803576 -1.923381 -0.116657 -1.574199  6.098627  3.0  1.0   \n",
       "\n",
       "          x8         x9  ...       x116  x117  x118      x119      x120  \\\n",
       "0  -4.476051  -1.472306  ...   4.607926  52.0   1.0  0.773809  0.766531   \n",
       "1  -0.387076  -0.664552  ...  15.889763  53.0   1.0  7.065852  0.994304   \n",
       "2  -0.850146  -4.011487  ...  13.770410  53.0   1.0 -8.598553 -2.958302   \n",
       "3   9.116188  -4.610151  ...   5.904901  50.0   1.0  8.194975 -7.798308   \n",
       "4 -13.956141  13.785099  ... -14.603703  47.0   0.0  2.330789 -8.249825   \n",
       "\n",
       "        x121       x122       x123      x124  y  \n",
       "0   6.307142   9.074515  -2.694049  0.330964  0  \n",
       "1  -0.028411 -21.472850   5.626095  1.293455  0  \n",
       "2 -12.784030 -36.855873   0.356093  1.499790  0  \n",
       "3  10.910515  15.226094 -10.440813 -0.735116  0  \n",
       "4 -12.680490  40.192302  -5.037065  1.679262  1  \n",
       "\n",
       "[5 rows x 126 columns]"
      ]
     },
     "execution_count": 3,
     "metadata": {},
     "output_type": "execute_result"
    }
   ],
   "source": [
    "data.head()"
   ]
  },
  {
   "cell_type": "markdown",
   "metadata": {},
   "source": [
    "# 1. Exploratory Data Analysis & Data understanding"
   ]
  },
  {
   "cell_type": "markdown",
   "metadata": {},
   "source": [
    "## 1.1 Check total number of NULL value"
   ]
  },
  {
   "cell_type": "code",
   "execution_count": 4,
   "metadata": {},
   "outputs": [
    {
     "data": {
      "text/plain": [
       "99841"
      ]
     },
     "execution_count": 4,
     "metadata": {},
     "output_type": "execute_result"
    }
   ],
   "source": [
    "min(data.count())"
   ]
  },
  {
   "cell_type": "code",
   "execution_count": 5,
   "metadata": {},
   "outputs": [
    {
     "data": {
      "text/plain": [
       "100000"
      ]
     },
     "execution_count": 5,
     "metadata": {},
     "output_type": "execute_result"
    }
   ],
   "source": [
    "max(data.count())"
   ]
  },
  {
   "cell_type": "code",
   "execution_count": 6,
   "metadata": {},
   "outputs": [
    {
     "data": {
      "text/plain": [
       "0.99841"
      ]
     },
     "execution_count": 6,
     "metadata": {},
     "output_type": "execute_result"
    }
   ],
   "source": [
    "99841/100000"
   ]
  },
  {
   "cell_type": "markdown",
   "metadata": {},
   "source": [
    "#### Conclusion of process 1.1 = IF we delete all of the row that consist even one NULL value, we will still have more than 99% of the data. It's insignificant, so therefore we will drop all of the row with NULL value\n",
    "\n",
    "### Drop all of the row with NULL value"
   ]
  },
  {
   "cell_type": "code",
   "execution_count": 7,
   "metadata": {},
   "outputs": [],
   "source": [
    "data = data.dropna()"
   ]
  },
  {
   "cell_type": "code",
   "execution_count": 8,
   "metadata": {},
   "outputs": [
    {
     "data": {
      "text/plain": [
       "0"
      ]
     },
     "execution_count": 8,
     "metadata": {},
     "output_type": "execute_result"
    }
   ],
   "source": [
    "#check if there isn't any row with NULL value\n",
    "max(data.isna().sum())"
   ]
  },
  {
   "cell_type": "markdown",
   "metadata": {},
   "source": [
    "## 1.2 Check whether the dataset is imbalance or not"
   ]
  },
  {
   "cell_type": "code",
   "execution_count": 9,
   "metadata": {},
   "outputs": [
    {
     "data": {
      "text/plain": [
       "0    69692\n",
       "1    14284\n",
       "Name: y, dtype: int64"
      ]
     },
     "execution_count": 9,
     "metadata": {},
     "output_type": "execute_result"
    }
   ],
   "source": [
    "data.y.value_counts()"
   ]
  },
  {
   "cell_type": "code",
   "execution_count": 10,
   "metadata": {},
   "outputs": [
    {
     "data": {
      "text/plain": [
       "0.1700962179670382"
      ]
     },
     "execution_count": 10,
     "metadata": {},
     "output_type": "execute_result"
    }
   ],
   "source": [
    "14284/(14284+69692)"
   ]
  },
  {
   "cell_type": "markdown",
   "metadata": {},
   "source": [
    "#### Conclusion of process 1.2 = the dataset is highly imbalance. the ratio is :\n",
    "1 = 17% of the data and\n",
    "0 = 83% of the data\n",
    "\n",
    "#### Therefore, we will utilize PR curve instead of ROC curve (Reference : https://sinyi-chou.github.io/classification-pr-curve/ ) We also might try oversampling method if needed to overcome the imbalance problem\n",
    "\n",
    "## 1.3 Check whether there is any categorical feature, or all of them are numerical? "
   ]
  },
  {
   "cell_type": "code",
   "execution_count": 11,
   "metadata": {},
   "outputs": [
    {
     "name": "stdout",
     "output_type": "stream",
     "text": [
      "List of categorical variables ['x21', 'x79', 'x89', 'x108', 'x112']\n"
     ]
    }
   ],
   "source": [
    "# extract the categorical variables\n",
    "cat_var = [ feature for feature in data.columns if data[feature].dtypes=='O']\n",
    "print('List of categorical variables {}'.format(cat_var))"
   ]
  },
  {
   "cell_type": "code",
   "execution_count": 12,
   "metadata": {},
   "outputs": [
    {
     "data": {
      "text/html": [
       "<div>\n",
       "<style scoped>\n",
       "    .dataframe tbody tr th:only-of-type {\n",
       "        vertical-align: middle;\n",
       "    }\n",
       "\n",
       "    .dataframe tbody tr th {\n",
       "        vertical-align: top;\n",
       "    }\n",
       "\n",
       "    .dataframe thead th {\n",
       "        text-align: right;\n",
       "    }\n",
       "</style>\n",
       "<table border=\"1\" class=\"dataframe\">\n",
       "  <thead>\n",
       "    <tr style=\"text-align: right;\">\n",
       "      <th></th>\n",
       "      <th>x21</th>\n",
       "      <th>x79</th>\n",
       "      <th>x89</th>\n",
       "      <th>x108</th>\n",
       "      <th>x112</th>\n",
       "    </tr>\n",
       "  </thead>\n",
       "  <tbody>\n",
       "    <tr>\n",
       "      <td>0</td>\n",
       "      <td>Jun</td>\n",
       "      <td>Laki-laki</td>\n",
       "      <td>Jambi</td>\n",
       "      <td>SMP</td>\n",
       "      <td>May</td>\n",
       "    </tr>\n",
       "    <tr>\n",
       "      <td>2</td>\n",
       "      <td>Jul</td>\n",
       "      <td>Perempuan</td>\n",
       "      <td>Sumatera Selatan</td>\n",
       "      <td>SD</td>\n",
       "      <td>Jun</td>\n",
       "    </tr>\n",
       "    <tr>\n",
       "      <td>3</td>\n",
       "      <td>Jun</td>\n",
       "      <td>Laki-laki</td>\n",
       "      <td>Kalimantan Utara</td>\n",
       "      <td>SMP</td>\n",
       "      <td>Sep</td>\n",
       "    </tr>\n",
       "    <tr>\n",
       "      <td>4</td>\n",
       "      <td>Jul</td>\n",
       "      <td>Laki-laki</td>\n",
       "      <td>Kalimantan Utara</td>\n",
       "      <td>SMA/SMK</td>\n",
       "      <td>Jun</td>\n",
       "    </tr>\n",
       "    <tr>\n",
       "      <td>5</td>\n",
       "      <td>Jul</td>\n",
       "      <td>Perempuan</td>\n",
       "      <td>Jambi</td>\n",
       "      <td>SMP</td>\n",
       "      <td>Jul</td>\n",
       "    </tr>\n",
       "  </tbody>\n",
       "</table>\n",
       "</div>"
      ],
      "text/plain": [
       "   x21        x79               x89     x108 x112\n",
       "0  Jun  Laki-laki             Jambi      SMP  May\n",
       "2  Jul  Perempuan  Sumatera Selatan       SD  Jun\n",
       "3  Jun  Laki-laki  Kalimantan Utara      SMP  Sep\n",
       "4  Jul  Laki-laki  Kalimantan Utara  SMA/SMK  Jun\n",
       "5  Jul  Perempuan             Jambi      SMP  Jul"
      ]
     },
     "execution_count": 12,
     "metadata": {},
     "output_type": "execute_result"
    }
   ],
   "source": [
    "data[['x21', 'x79', 'x89', 'x108', 'x112']].head()"
   ]
  },
  {
   "cell_type": "markdown",
   "metadata": {},
   "source": [
    "#### So there are five categorical feature and we will conduct descriptive analysis"
   ]
  },
  {
   "cell_type": "code",
   "execution_count": 13,
   "metadata": {},
   "outputs": [],
   "source": [
    "def with_per(total, axis):\n",
    "    for p in axis.patches:\n",
    "        percentage = '{:.1f}%'.format(100 * p.get_height()/total)\n",
    "        x = p.get_x() + p.get_width()\n",
    "        y = p.get_height()\n",
    "        ax.annotate(percentage, (x, y),ha='center')"
   ]
  },
  {
   "cell_type": "code",
   "execution_count": 14,
   "metadata": {},
   "outputs": [
    {
     "data": {
      "image/png": "[encoded data removed]",
      "text/plain": [
       "<Figure size 1440x360 with 1 Axes>"
      ]
     },
     "metadata": {},
     "output_type": "display_data"
    },
    {
     "data": {
      "image/png": "[encoded data removed]",
      "text/plain": [
       "<Figure size 1440x360 with 1 Axes>"
      ]
     },
     "metadata": {},
     "output_type": "display_data"
    },
    {
     "data": {
      "image/png": "[encoded data removed]",
      "text/plain": [
       "<Figure size 1440x360 with 1 Axes>"
      ]
     },
     "metadata": {},
     "output_type": "display_data"
    },
    {
     "data": {
      "image/png": "[encoded data removed]",
      "text/plain": [
       "<Figure size 1440x360 with 1 Axes>"
      ]
     },
     "metadata": {},
     "output_type": "display_data"
    },
    {
     "data": {
      "image/png": "[encoded data removed]",
      "text/plain": [
       "<Figure size 1440x360 with 1 Axes>"
      ]
     },
     "metadata": {},
     "output_type": "display_data"
    }
   ],
   "source": [
    "#display the all the categorical variable \n",
    "for feature in cat_var:\n",
    "    sns.set(style = 'whitegrid')\n",
    "    plt.figure(figsize=(20,5))\n",
    "    total = len(data)\n",
    "    ax = sns.countplot(x = data[feature], data = data)\n",
    "    #plt.title(feature)\n",
    "    with_per(total, ax)\n",
    "    plt.show()"
   ]
  },
  {
   "cell_type": "code",
   "execution_count": 15,
   "metadata": {},
   "outputs": [
    {
     "name": "stdout",
     "output_type": "stream",
     "text": [
      "List of Numerical featues ['x0', 'x1', 'x2', 'x3', 'x4', 'x5', 'x6', 'x7', 'x8', 'x9', 'x10', 'x11', 'x12', 'x13', 'x14', 'x15', 'x16', 'x17', 'x18', 'x19', 'x20', 'x22', 'x23', 'x24', 'x25', 'x26', 'x27', 'x28', 'x29', 'x30', 'x31', 'x32', 'x33', 'x34', 'x35', 'x36', 'x37', 'x38', 'x39', 'x40', 'x41', 'x42', 'x43', 'x44', 'x45', 'x46', 'x47', 'x48', 'x49', 'x50', 'x51', 'x52', 'x53', 'x54', 'x55', 'x56', 'x57', 'x58', 'x59', 'x60', 'x61', 'x62', 'x63', 'x64', 'x65', 'x66', 'x67', 'x68', 'x69', 'x70', 'x71', 'x72', 'x73', 'x74', 'x75', 'x76', 'x77', 'x78', 'x80', 'x81', 'x82', 'x83', 'x84', 'x85', 'x86', 'x87', 'x88', 'x90', 'x91', 'x92', 'x93', 'x94', 'x95', 'x96', 'x97', 'x98', 'x99', 'x100', 'x101', 'x102', 'x103', 'x104', 'x105', 'x106', 'x107', 'x109', 'x110', 'x111', 'x113', 'x114', 'x115', 'x116', 'x117', 'x118', 'x119', 'x120', 'x121', 'x122', 'x123', 'x124', 'y']\n"
     ]
    }
   ],
   "source": [
    "#Extract the numerical features from the dataset\n",
    "num_var = [feature for feature in data.columns if data[feature].dtypes != 'O']\n",
    "print('List of Numerical featues {}'.format(num_var))"
   ]
  },
  {
   "cell_type": "markdown",
   "metadata": {},
   "source": [
    "## 1.4 Test the correlation as the consideration in the future modelling : which feature should be always included?"
   ]
  },
  {
   "cell_type": "code",
   "execution_count": 16,
   "metadata": {},
   "outputs": [],
   "source": [
    "correlation = pd.DataFrame(data.corr().y.sort_values(ascending = False)).reset_index()"
   ]
  },
  {
   "cell_type": "code",
   "execution_count": 17,
   "metadata": {},
   "outputs": [
    {
     "data": {
      "text/html": [
       "<div>\n",
       "<style scoped>\n",
       "    .dataframe tbody tr th:only-of-type {\n",
       "        vertical-align: middle;\n",
       "    }\n",
       "\n",
       "    .dataframe tbody tr th {\n",
       "        vertical-align: top;\n",
       "    }\n",
       "\n",
       "    .dataframe thead th {\n",
       "        text-align: right;\n",
       "    }\n",
       "</style>\n",
       "<table border=\"1\" class=\"dataframe\">\n",
       "  <thead>\n",
       "    <tr style=\"text-align: right;\">\n",
       "      <th></th>\n",
       "      <th>index</th>\n",
       "      <th>y</th>\n",
       "    </tr>\n",
       "  </thead>\n",
       "  <tbody>\n",
       "    <tr>\n",
       "      <td>0</td>\n",
       "      <td>y</td>\n",
       "      <td>1.000000</td>\n",
       "    </tr>\n",
       "    <tr>\n",
       "      <td>1</td>\n",
       "      <td>x17</td>\n",
       "      <td>0.138550</td>\n",
       "    </tr>\n",
       "    <tr>\n",
       "      <td>2</td>\n",
       "      <td>x106</td>\n",
       "      <td>0.115947</td>\n",
       "    </tr>\n",
       "    <tr>\n",
       "      <td>3</td>\n",
       "      <td>x92</td>\n",
       "      <td>0.087967</td>\n",
       "    </tr>\n",
       "    <tr>\n",
       "      <td>4</td>\n",
       "      <td>x91</td>\n",
       "      <td>0.075798</td>\n",
       "    </tr>\n",
       "    <tr>\n",
       "      <td>5</td>\n",
       "      <td>x118</td>\n",
       "      <td>0.068389</td>\n",
       "    </tr>\n",
       "    <tr>\n",
       "      <td>6</td>\n",
       "      <td>x46</td>\n",
       "      <td>0.067997</td>\n",
       "    </tr>\n",
       "    <tr>\n",
       "      <td>7</td>\n",
       "      <td>x28</td>\n",
       "      <td>0.067801</td>\n",
       "    </tr>\n",
       "    <tr>\n",
       "      <td>8</td>\n",
       "      <td>x96</td>\n",
       "      <td>0.065796</td>\n",
       "    </tr>\n",
       "    <tr>\n",
       "      <td>9</td>\n",
       "      <td>x104</td>\n",
       "      <td>0.063423</td>\n",
       "    </tr>\n",
       "    <tr>\n",
       "      <td>10</td>\n",
       "      <td>x117</td>\n",
       "      <td>0.052941</td>\n",
       "    </tr>\n",
       "    <tr>\n",
       "      <td>11</td>\n",
       "      <td>x65</td>\n",
       "      <td>0.051138</td>\n",
       "    </tr>\n",
       "    <tr>\n",
       "      <td>12</td>\n",
       "      <td>x45</td>\n",
       "      <td>0.043991</td>\n",
       "    </tr>\n",
       "    <tr>\n",
       "      <td>13</td>\n",
       "      <td>x75</td>\n",
       "      <td>0.043192</td>\n",
       "    </tr>\n",
       "    <tr>\n",
       "      <td>14</td>\n",
       "      <td>x35</td>\n",
       "      <td>0.042221</td>\n",
       "    </tr>\n",
       "    <tr>\n",
       "      <td>15</td>\n",
       "      <td>x103</td>\n",
       "      <td>0.042170</td>\n",
       "    </tr>\n",
       "    <tr>\n",
       "      <td>16</td>\n",
       "      <td>x39</td>\n",
       "      <td>0.033997</td>\n",
       "    </tr>\n",
       "    <tr>\n",
       "      <td>17</td>\n",
       "      <td>x15</td>\n",
       "      <td>0.027815</td>\n",
       "    </tr>\n",
       "    <tr>\n",
       "      <td>18</td>\n",
       "      <td>x50</td>\n",
       "      <td>0.012609</td>\n",
       "    </tr>\n",
       "    <tr>\n",
       "      <td>19</td>\n",
       "      <td>x31</td>\n",
       "      <td>0.012360</td>\n",
       "    </tr>\n",
       "  </tbody>\n",
       "</table>\n",
       "</div>"
      ],
      "text/plain": [
       "   index         y\n",
       "0      y  1.000000\n",
       "1    x17  0.138550\n",
       "2   x106  0.115947\n",
       "3    x92  0.087967\n",
       "4    x91  0.075798\n",
       "5   x118  0.068389\n",
       "6    x46  0.067997\n",
       "7    x28  0.067801\n",
       "8    x96  0.065796\n",
       "9   x104  0.063423\n",
       "10  x117  0.052941\n",
       "11   x65  0.051138\n",
       "12   x45  0.043991\n",
       "13   x75  0.043192\n",
       "14   x35  0.042221\n",
       "15  x103  0.042170\n",
       "16   x39  0.033997\n",
       "17   x15  0.027815\n",
       "18   x50  0.012609\n",
       "19   x31  0.012360"
      ]
     },
     "execution_count": 17,
     "metadata": {},
     "output_type": "execute_result"
    }
   ],
   "source": [
    "correlation.head(20)"
   ]
  },
  {
   "cell_type": "markdown",
   "metadata": {},
   "source": [
    "#### Conclusion of process 1.4 : if we set the cut-off of the correlation value to 0.05, then we will only get 10 variable that should always be included in the modelling (although we will create baseline model first that will include all of the feature, then maybe we will analyze which have both high feature importance, feature impact and high correlation value.)"
   ]
  },
  {
   "cell_type": "markdown",
   "metadata": {},
   "source": [
    "## 1.5 Interactive visualization to conduct data analysis\n",
    "### 1.5.1 Know which value of categorical feature has highest percentage of churn "
   ]
  },
  {
   "cell_type": "code",
   "execution_count": 18,
   "metadata": {},
   "outputs": [],
   "source": [
    "#input the categorical feature and all of its value into one new table called categorical_table\n",
    "categorical_table = data[['x21', 'x79', 'x89', 'x108', 'x112','y']]"
   ]
  },
  {
   "cell_type": "code",
   "execution_count": 19,
   "metadata": {},
   "outputs": [
    {
     "data": {
      "application/vnd.jupyter.widget-view+json": {
       "model_id": "639ea4f38f684f6c8507d6b7998797fe",
       "version_major": 2,
       "version_minor": 0
      },
      "text/plain": [
       "interactive(children=(Dropdown(description='x_', options=('x21', 'x79', 'x89', 'x108', 'x112', 'y'), value='x2…"
      ]
     },
     "metadata": {},
     "output_type": "display_data"
    }
   ],
   "source": [
    "@interact_manual\n",
    "def interactcompr(x_ = categorical_table.columns, color_ = categorical_table.columns, barnormm = [None]+['percent'], numbin = (0,100,10)):\n",
    "    titlee1 =  x_ + ' Histogram divided by ' + color_ #please always use 'y' as the color\n",
    "    return px.histogram(x = x_, barnorm = barnormm, color = color_, data_frame = categorical_table, nbins = numbin, title = titlee1).update_xaxes(categoryorder = \"total ascending\")\n",
    "\n",
    "#for my analysis, I will always use 'y' as the color, and 'percent' as barnorm.\n",
    "#but user could analyze it freely and interactively"
   ]
  },
  {
   "cell_type": "markdown",
   "metadata": {},
   "source": [
    "#### Conclusion of 1.5.1 : \n",
    "- x21 and x112 is month. so we will encode Jan = 1, Feb = 2, Mar = 3, and so on\n",
    "- x79 is gender. we will encode Perempuan = 0 and Laki-laki = 1 since percentage of y = 0 is higher in 'Perempuan' category, rather than 'Laki-laki'\n",
    "- x89 is region. we will encode Jakarta = 0, Banten = 1, NTT = 3, Sulawesi Barat = 4, and so on (sort from the highest percentage of y = 0)\n",
    "- x108 is education level. it could be sorted logically. Tidak sekolah = 0, SD = 1, SMP = 2, and so on\n",
    "\n",
    "#### But hypothetically, all of the categorical variable might not have high importance in machine learning since almost all of them are distributed equally if we see the percentage of y = 0. \n",
    "\n",
    "\n",
    "### 1.5.2 Know the distribution of each numerical feature. This could be done interactively "
   ]
  },
  {
   "cell_type": "code",
   "execution_count": 20,
   "metadata": {},
   "outputs": [],
   "source": [
    "numerical_table = data[num_var]"
   ]
  },
  {
   "cell_type": "code",
   "execution_count": 21,
   "metadata": {
    "scrolled": false
   },
   "outputs": [
    {
     "data": {
      "application/vnd.jupyter.widget-view+json": {
       "model_id": "72268af7c3ac4a40a19f0993fac662a9",
       "version_major": 2,
       "version_minor": 0
      },
      "text/plain": [
       "interactive(children=(Dropdown(description='x_box', options=('x21', 'x79', 'x89', 'x108', 'x112', 'y'), value=…"
      ]
     },
     "metadata": {},
     "output_type": "display_data"
    }
   ],
   "source": [
    "@interact_manual\n",
    "def interactcompr(x_box = categorical_table.columns, y_box = numerical_table.columns, color_box = categorical_table.columns):\n",
    "    title_box =  x_box + ' boxplot divided by ' + y_box + 'and' + color_box   #please always use 'y' as the color\n",
    "    return px.box(data_frame = data, x = x_box, y = y_box, color = color_box)"
   ]
  },
  {
   "cell_type": "markdown",
   "metadata": {},
   "source": [
    "Example of analysis result: \n",
    "- There are a lot of outliers in some value I try to analyze\n",
    "- it's strongly recommended to use feature with less kind of value (for instance : gender) to make the visualization more focus on our eye\n",
    "- if we use x21 (month) as x, and any kind of value as y_box, and the target as color, we can see the distribution of y_box value from month to month : is it going up or going down, etc\n"
   ]
  },
  {
   "cell_type": "markdown",
   "metadata": {},
   "source": [
    "# 2. Feature Engineering\n",
    "## 2.1 Encode the categorical feature\n",
    "### We will encode them for the machine learning baseline model that include all of the feature. This will be done after knowing which category has the highest percentage of churn. We already know this info from previous process (exploratory data analysis, part 1.5.1)"
   ]
  },
  {
   "cell_type": "code",
   "execution_count": 20,
   "metadata": {},
   "outputs": [],
   "source": [
    "#encode the month feature\n",
    "data['month_1_encode']=data['x21'].map({'Jan':1,\n",
    "                                        'Feb':2,\n",
    "                                        'Mar':3,\n",
    "                                        'Apr':4,\n",
    "                                        'May':5,\n",
    "                                        'Jun':6,\n",
    "                                        'Jul':7,\n",
    "                                        'Aug':8,\n",
    "                                        'Sep':9,\n",
    "                                        'Oct':10,\n",
    "                                        'Nov':11,\n",
    "                                        'Dec':12})\n",
    "\n",
    "data['month_2_encode']=data['x112'].map({'Jan':1,\n",
    "                                         'Feb':2,\n",
    "                                         'Mar':3,\n",
    "                                         'Apr':4,\n",
    "                                         'May':5,\n",
    "                                         'Jun':6,\n",
    "                                         'Jul':7,\n",
    "                                         'Aug':8,\n",
    "                                         'Sep':9,\n",
    "                                         'Oct':10,\n",
    "                                         'Nov':11,\n",
    "                                         'Dec':12})"
   ]
  },
  {
   "cell_type": "code",
   "execution_count": 21,
   "metadata": {},
   "outputs": [],
   "source": [
    "#encode the gender\n",
    "data['gender_encode'] = data['x79'].map({'Perempuan':0,'Laki-laki':1})"
   ]
  },
  {
   "cell_type": "code",
   "execution_count": 22,
   "metadata": {},
   "outputs": [],
   "source": [
    "#encode the region\n",
    "data['region_encode'] = data['x89'].map({'DKI Jakarta'       :0,\n",
    "                                         'Banten'            :1,\n",
    "                                         'NTT'               :2,\n",
    "                                         'Sulawesi Barat'    :3,\n",
    "                                         'Bengkulu'          :4,\n",
    "                                         'Kalimantan Tengah' :5,\n",
    "                                         'Bangka Belitung'   :6,\n",
    "                                         'Sulawesi Tenggara' :7,\n",
    "                                         'Kalimantan Selatan':8,\n",
    "                                         'Kalimantan Timur'  :9,\n",
    "                                         'Sumatera Selatan'  :10,\n",
    "                                         'Jambi'             :11,\n",
    "                                         'Kalimantan Barat'  :12,\n",
    "                                         'Kalimantan Utara'  :13,\n",
    "                                         'Sumatera Barat'    :14,\n",
    "                                         'Gorontalo'         :15,\n",
    "                                         'Sulawesi Utara'    :16,\n",
    "                                         'Bali'              :17,\n",
    "                                         'Sulawesi Tengah'   :18,\n",
    "                                         'Sumatera Utara'    :19,\n",
    "                                         'Jawa Tengah'       :20,\n",
    "                                         'Jawa Barat'        :21,\n",
    "                                         'Jawa Timur'        :22,\n",
    "                                         'NTB'               :23,\n",
    "                                         'DI Yogyakarta'     :24,\n",
    "                                         'Maluku'            :25,\n",
    "                                         'Maluku Utara'      :26})"
   ]
  },
  {
   "cell_type": "code",
   "execution_count": 23,
   "metadata": {},
   "outputs": [],
   "source": [
    "#encode the education level\n",
    "data['education_encode'] = data['x108'].map({'Tidak sekolah':0,\n",
    "                                             'SD'           :1,\n",
    "                                             'SMP'          :2,\n",
    "                                             'SMA/SMK'      :3,\n",
    "                                             'S1/S2/S3'     :4})"
   ]
  },
  {
   "cell_type": "markdown",
   "metadata": {},
   "source": [
    "## 2.2 I plan to utilize tree based model, so it doesn't really need the outlier detection & removal (reference : https://datascience.stackexchange.com/questions/37394/are-decision-trees-robust-to-outliers )\n",
    "\n",
    "## 2.3 Feature Selection \n",
    "it's very crucial to do feature selection (ref : https://www.aretove.com/importance-of-feature-selection-in-machine-learning ) but in order to do that, I have to create baseline model to know feature importance"
   ]
  },
  {
   "cell_type": "markdown",
   "metadata": {},
   "source": [
    "### 2.3.1 Import the needed package for modelling"
   ]
  },
  {
   "cell_type": "code",
   "execution_count": 24,
   "metadata": {},
   "outputs": [],
   "source": [
    "from sklearn.ensemble import RandomForestClassifier, GradientBoostingClassifier\n",
    "from sklearn.model_selection import train_test_split\n",
    "from sklearn.metrics import mean_squared_error, mean_absolute_error, r2_score\n",
    "from mlxtend.plotting import plot_decision_regions\n",
    "from sklearn.metrics import confusion_matrix\n",
    "from sklearn.metrics import roc_auc_score,roc_curve\n",
    "from sklearn import datasets\n",
    "from sklearn.metrics import precision_recall_curve\n",
    "\n",
    "import lightgbm as lgb\n",
    "import xgboost as xgb\n",
    "import shap"
   ]
  },
  {
   "cell_type": "markdown",
   "metadata": {},
   "source": [
    "### 2.3.2 Define feature and target then conduct train test split"
   ]
  },
  {
   "cell_type": "code",
   "execution_count": 25,
   "metadata": {},
   "outputs": [],
   "source": [
    "#define \n",
    "X = data.drop(['x21', 'x79', 'x89', 'x108', 'x112','y'],axis = 1)\n",
    "y = data['y']"
   ]
  },
  {
   "cell_type": "markdown",
   "metadata": {},
   "source": [
    "##### I have to add this code to prevent the error (ref : https://www.kaggle.com/questions-and-answers/132668 , and https://datascience.stackexchange.com/questions/11928/valueerror-input-contains-nan-infinity-or-a-value-too-large-for-dtypefloat32 )"
   ]
  },
  {
   "cell_type": "code",
   "execution_count": 26,
   "metadata": {},
   "outputs": [
    {
     "data": {
      "text/plain": [
       "(array([], dtype=int64), array([], dtype=int64))"
      ]
     },
     "execution_count": 26,
     "metadata": {},
     "output_type": "execute_result"
    }
   ],
   "source": [
    "#check the existance of NaN (Not a Number). It's different with NULL value that already deleted in the pre-processing step\n",
    "np.where(np.isnan(X))"
   ]
  },
  {
   "cell_type": "code",
   "execution_count": 27,
   "metadata": {},
   "outputs": [],
   "source": [
    "#to replace nan(Not A Number) with zero and inf with finite numbers in an array. \n",
    "#It returns (positive) infinity with a very large number and negative infinity with a very small (or negative) number\n",
    "\n",
    "#if the code below generates error message \"input contains nan, infinity, or a value too large for dtypefloat32\", \n",
    "#please uncomment line below\n",
    "\n",
    "#X = np.nan_to_num(X)"
   ]
  },
  {
   "cell_type": "code",
   "execution_count": 28,
   "metadata": {},
   "outputs": [],
   "source": [
    "#train test split\n",
    "X_train, X_test, y_train, y_test = train_test_split(X,y,test_size = 0.2)"
   ]
  },
  {
   "cell_type": "markdown",
   "metadata": {},
   "source": [
    "### 2.3.3 Create baseline model with four model \n",
    "- Random Forest\n",
    "- Gradient Boosting\n",
    "- LightGBM\n",
    "- XGboost"
   ]
  },
  {
   "cell_type": "code",
   "execution_count": 29,
   "metadata": {},
   "outputs": [],
   "source": [
    "#fit  Default Random Forest model to dataset\n",
    "RF = RandomForestClassifier()\n",
    "RF.fit(X_train, y_train)\n",
    "\n",
    "#use  model to make predictions\n",
    "y_score_RF = RF.predict_proba(X_test)[:, 1]"
   ]
  },
  {
   "cell_type": "code",
   "execution_count": 30,
   "metadata": {},
   "outputs": [],
   "source": [
    "#fit  Gradient Boosting model to dataset\n",
    "GB = GradientBoostingClassifier()\n",
    "GB.fit(X_train, y_train)\n",
    "\n",
    "#use  model to make predictions\n",
    "y_score_GB = GB.predict_proba(X_test)[:, 1]"
   ]
  },
  {
   "cell_type": "code",
   "execution_count": 31,
   "metadata": {},
   "outputs": [],
   "source": [
    "#fit Light Gradient Boosting model to dataset\n",
    "LGBM = lgb.LGBMClassifier()\n",
    "LGBM.fit(X_train, y_train)\n",
    "\n",
    "#use  model to make predictions\n",
    "y_score_LGBM = LGBM.predict_proba(X_test)[:, 1]"
   ]
  },
  {
   "cell_type": "code",
   "execution_count": 32,
   "metadata": {},
   "outputs": [
    {
     "name": "stderr",
     "output_type": "stream",
     "text": [
      "The use of label encoder in XGBClassifier is deprecated and will be removed in a future release. To remove this warning, do the following: 1) Pass option use_label_encoder=False when constructing XGBClassifier object; and 2) Encode your labels (y) as integers starting with 0, i.e. 0, 1, 2, ..., [num_class - 1].\n"
     ]
    },
    {
     "name": "stdout",
     "output_type": "stream",
     "text": [
      "[20:15:34] WARNING: C:/Users/Administrator/workspace/xgboost-win64_release_1.4.0/src/learner.cc:1095: Starting in XGBoost 1.3.0, the default evaluation metric used with the objective 'binary:logistic' was changed from 'error' to 'logloss'. Explicitly set eval_metric if you'd like to restore the old behavior.\n"
     ]
    }
   ],
   "source": [
    "#fit Xtreme Gradient Boosting model to dataset\n",
    "xgboost = xgb.XGBClassifier()\n",
    "\n",
    "# Fit\n",
    "xgboost.fit(X_train, y_train)\n",
    "\n",
    "# Predict\n",
    "y_score_xgb = xgboost.predict_proba(X_test)[:, 1]"
   ]
  },
  {
   "cell_type": "code",
   "execution_count": 33,
   "metadata": {},
   "outputs": [
    {
     "data": {
      "image/png": "[encoded data removed]",
      "text/plain": [
       "<Figure size 432x288 with 1 Axes>"
      ]
     },
     "metadata": {},
     "output_type": "display_data"
    }
   ],
   "source": [
    "#calculate precision and recall\n",
    "precision_RF, recall_RF, thresholds_RF = precision_recall_curve(y_test, y_score_RF)\n",
    "precision_GB, recall_GB, thresholds_GB = precision_recall_curve(y_test, y_score_GB)\n",
    "precision_LGB, recall_LGB, thresholds_LGB = precision_recall_curve(y_test, y_score_LGBM)\n",
    "precision_XGB, recall_XGB, thresholds_XGB = precision_recall_curve(y_test, y_score_xgb)\n",
    "\n",
    "#create precision recall curve\n",
    "fig, ax = plt.subplots()\n",
    "ax.plot(recall_RF, precision_RF, color='purple')\n",
    "ax.plot(recall_GB, precision_GB, color='red')\n",
    "ax.plot(recall_LGB, precision_LGB, color='blue')\n",
    "ax.plot(recall_XGB, precision_XGB, color='green')\n",
    "\n",
    "#add axis labels to plot\n",
    "ax.set_title('Precision-Recall Curve')\n",
    "ax.set_ylabel('Precision')\n",
    "ax.set_xlabel('Recall')\n",
    "\n",
    "#display plot\n",
    "plt.show()"
   ]
  },
  {
   "cell_type": "markdown",
   "metadata": {},
   "source": [
    "#### Conclusion : the blue line ( Light Gradient Boosting model) and purple line (Random Forest model) show the best PR curve, and red line (gradient boosting) show the worst model. So I will use the Light Gradient Boosting and Random Forest"
   ]
  },
  {
   "cell_type": "markdown",
   "metadata": {},
   "source": [
    "### 2.3.4 Feature importance & Feature impact"
   ]
  },
  {
   "cell_type": "code",
   "execution_count": 34,
   "metadata": {
    "scrolled": true
   },
   "outputs": [
    {
     "data": {
      "image/png": "[encoded data removed]",
      "text/plain": [
       "<Figure size 1080x1080 with 1 Axes>"
      ]
     },
     "metadata": {},
     "output_type": "display_data"
    }
   ],
   "source": [
    "#based on LGB\n",
    "ax = lgb.plot_importance(LGBM, max_num_features=50, figsize=(15,15))\n",
    "plt.show()"
   ]
  },
  {
   "cell_type": "code",
   "execution_count": 35,
   "metadata": {
    "scrolled": true
   },
   "outputs": [
    {
     "data": {
      "text/html": [
       "<div>\n",
       "<style scoped>\n",
       "    .dataframe tbody tr th:only-of-type {\n",
       "        vertical-align: middle;\n",
       "    }\n",
       "\n",
       "    .dataframe tbody tr th {\n",
       "        vertical-align: top;\n",
       "    }\n",
       "\n",
       "    .dataframe thead th {\n",
       "        text-align: right;\n",
       "    }\n",
       "</style>\n",
       "<table border=\"1\" class=\"dataframe\">\n",
       "  <thead>\n",
       "    <tr style=\"text-align: right;\">\n",
       "      <th></th>\n",
       "      <th>Importances</th>\n",
       "      <th>Features</th>\n",
       "    </tr>\n",
       "  </thead>\n",
       "  <tbody>\n",
       "    <tr>\n",
       "      <td>43</td>\n",
       "      <td>0.029951</td>\n",
       "      <td>x44</td>\n",
       "    </tr>\n",
       "    <tr>\n",
       "      <td>17</td>\n",
       "      <td>0.019993</td>\n",
       "      <td>x17</td>\n",
       "    </tr>\n",
       "    <tr>\n",
       "      <td>102</td>\n",
       "      <td>0.019131</td>\n",
       "      <td>x105</td>\n",
       "    </tr>\n",
       "    <tr>\n",
       "      <td>4</td>\n",
       "      <td>0.017697</td>\n",
       "      <td>x4</td>\n",
       "    </tr>\n",
       "    <tr>\n",
       "      <td>40</td>\n",
       "      <td>0.016668</td>\n",
       "      <td>x41</td>\n",
       "    </tr>\n",
       "    <tr>\n",
       "      <td>114</td>\n",
       "      <td>0.015380</td>\n",
       "      <td>x119</td>\n",
       "    </tr>\n",
       "    <tr>\n",
       "      <td>99</td>\n",
       "      <td>0.014583</td>\n",
       "      <td>x102</td>\n",
       "    </tr>\n",
       "    <tr>\n",
       "      <td>67</td>\n",
       "      <td>0.013903</td>\n",
       "      <td>x68</td>\n",
       "    </tr>\n",
       "    <tr>\n",
       "      <td>56</td>\n",
       "      <td>0.013757</td>\n",
       "      <td>x57</td>\n",
       "    </tr>\n",
       "    <tr>\n",
       "      <td>54</td>\n",
       "      <td>0.013337</td>\n",
       "      <td>x55</td>\n",
       "    </tr>\n",
       "    <tr>\n",
       "      <td>105</td>\n",
       "      <td>0.013299</td>\n",
       "      <td>x109</td>\n",
       "    </tr>\n",
       "    <tr>\n",
       "      <td>12</td>\n",
       "      <td>0.013172</td>\n",
       "      <td>x12</td>\n",
       "    </tr>\n",
       "    <tr>\n",
       "      <td>66</td>\n",
       "      <td>0.013060</td>\n",
       "      <td>x67</td>\n",
       "    </tr>\n",
       "    <tr>\n",
       "      <td>15</td>\n",
       "      <td>0.012228</td>\n",
       "      <td>x15</td>\n",
       "    </tr>\n",
       "    <tr>\n",
       "      <td>64</td>\n",
       "      <td>0.011663</td>\n",
       "      <td>x65</td>\n",
       "    </tr>\n",
       "    <tr>\n",
       "      <td>58</td>\n",
       "      <td>0.011290</td>\n",
       "      <td>x59</td>\n",
       "    </tr>\n",
       "    <tr>\n",
       "      <td>60</td>\n",
       "      <td>0.010796</td>\n",
       "      <td>x61</td>\n",
       "    </tr>\n",
       "    <tr>\n",
       "      <td>103</td>\n",
       "      <td>0.010590</td>\n",
       "      <td>x106</td>\n",
       "    </tr>\n",
       "    <tr>\n",
       "      <td>52</td>\n",
       "      <td>0.010579</td>\n",
       "      <td>x53</td>\n",
       "    </tr>\n",
       "    <tr>\n",
       "      <td>80</td>\n",
       "      <td>0.010577</td>\n",
       "      <td>x82</td>\n",
       "    </tr>\n",
       "    <tr>\n",
       "      <td>100</td>\n",
       "      <td>0.010526</td>\n",
       "      <td>x103</td>\n",
       "    </tr>\n",
       "    <tr>\n",
       "      <td>93</td>\n",
       "      <td>0.010433</td>\n",
       "      <td>x96</td>\n",
       "    </tr>\n",
       "    <tr>\n",
       "      <td>49</td>\n",
       "      <td>0.010281</td>\n",
       "      <td>x50</td>\n",
       "    </tr>\n",
       "    <tr>\n",
       "      <td>104</td>\n",
       "      <td>0.010157</td>\n",
       "      <td>x107</td>\n",
       "    </tr>\n",
       "    <tr>\n",
       "      <td>88</td>\n",
       "      <td>0.010138</td>\n",
       "      <td>x91</td>\n",
       "    </tr>\n",
       "    <tr>\n",
       "      <td>71</td>\n",
       "      <td>0.010015</td>\n",
       "      <td>x72</td>\n",
       "    </tr>\n",
       "    <tr>\n",
       "      <td>13</td>\n",
       "      <td>0.009875</td>\n",
       "      <td>x13</td>\n",
       "    </tr>\n",
       "    <tr>\n",
       "      <td>27</td>\n",
       "      <td>0.009765</td>\n",
       "      <td>x28</td>\n",
       "    </tr>\n",
       "    <tr>\n",
       "      <td>34</td>\n",
       "      <td>0.009715</td>\n",
       "      <td>x35</td>\n",
       "    </tr>\n",
       "    <tr>\n",
       "      <td>35</td>\n",
       "      <td>0.009613</td>\n",
       "      <td>x36</td>\n",
       "    </tr>\n",
       "    <tr>\n",
       "      <td>84</td>\n",
       "      <td>0.009549</td>\n",
       "      <td>x86</td>\n",
       "    </tr>\n",
       "    <tr>\n",
       "      <td>96</td>\n",
       "      <td>0.009446</td>\n",
       "      <td>x99</td>\n",
       "    </tr>\n",
       "    <tr>\n",
       "      <td>74</td>\n",
       "      <td>0.009430</td>\n",
       "      <td>x75</td>\n",
       "    </tr>\n",
       "    <tr>\n",
       "      <td>63</td>\n",
       "      <td>0.009421</td>\n",
       "      <td>x64</td>\n",
       "    </tr>\n",
       "    <tr>\n",
       "      <td>61</td>\n",
       "      <td>0.009337</td>\n",
       "      <td>x62</td>\n",
       "    </tr>\n",
       "    <tr>\n",
       "      <td>45</td>\n",
       "      <td>0.009325</td>\n",
       "      <td>x46</td>\n",
       "    </tr>\n",
       "    <tr>\n",
       "      <td>59</td>\n",
       "      <td>0.009296</td>\n",
       "      <td>x60</td>\n",
       "    </tr>\n",
       "    <tr>\n",
       "      <td>38</td>\n",
       "      <td>0.009071</td>\n",
       "      <td>x39</td>\n",
       "    </tr>\n",
       "    <tr>\n",
       "      <td>89</td>\n",
       "      <td>0.008923</td>\n",
       "      <td>x92</td>\n",
       "    </tr>\n",
       "    <tr>\n",
       "      <td>72</td>\n",
       "      <td>0.008875</td>\n",
       "      <td>x73</td>\n",
       "    </tr>\n",
       "    <tr>\n",
       "      <td>19</td>\n",
       "      <td>0.008810</td>\n",
       "      <td>x19</td>\n",
       "    </tr>\n",
       "    <tr>\n",
       "      <td>30</td>\n",
       "      <td>0.008678</td>\n",
       "      <td>x31</td>\n",
       "    </tr>\n",
       "    <tr>\n",
       "      <td>44</td>\n",
       "      <td>0.008551</td>\n",
       "      <td>x45</td>\n",
       "    </tr>\n",
       "    <tr>\n",
       "      <td>117</td>\n",
       "      <td>0.008550</td>\n",
       "      <td>x122</td>\n",
       "    </tr>\n",
       "    <tr>\n",
       "      <td>36</td>\n",
       "      <td>0.008114</td>\n",
       "      <td>x37</td>\n",
       "    </tr>\n",
       "    <tr>\n",
       "      <td>28</td>\n",
       "      <td>0.008077</td>\n",
       "      <td>x29</td>\n",
       "    </tr>\n",
       "    <tr>\n",
       "      <td>112</td>\n",
       "      <td>0.007857</td>\n",
       "      <td>x117</td>\n",
       "    </tr>\n",
       "    <tr>\n",
       "      <td>70</td>\n",
       "      <td>0.007817</td>\n",
       "      <td>x71</td>\n",
       "    </tr>\n",
       "    <tr>\n",
       "      <td>86</td>\n",
       "      <td>0.007267</td>\n",
       "      <td>x88</td>\n",
       "    </tr>\n",
       "    <tr>\n",
       "      <td>23</td>\n",
       "      <td>0.007218</td>\n",
       "      <td>x24</td>\n",
       "    </tr>\n",
       "  </tbody>\n",
       "</table>\n",
       "</div>"
      ],
      "text/plain": [
       "     Importances Features\n",
       "43      0.029951      x44\n",
       "17      0.019993      x17\n",
       "102     0.019131     x105\n",
       "4       0.017697       x4\n",
       "40      0.016668      x41\n",
       "114     0.015380     x119\n",
       "99      0.014583     x102\n",
       "67      0.013903      x68\n",
       "56      0.013757      x57\n",
       "54      0.013337      x55\n",
       "105     0.013299     x109\n",
       "12      0.013172      x12\n",
       "66      0.013060      x67\n",
       "15      0.012228      x15\n",
       "64      0.011663      x65\n",
       "58      0.011290      x59\n",
       "60      0.010796      x61\n",
       "103     0.010590     x106\n",
       "52      0.010579      x53\n",
       "80      0.010577      x82\n",
       "100     0.010526     x103\n",
       "93      0.010433      x96\n",
       "49      0.010281      x50\n",
       "104     0.010157     x107\n",
       "88      0.010138      x91\n",
       "71      0.010015      x72\n",
       "13      0.009875      x13\n",
       "27      0.009765      x28\n",
       "34      0.009715      x35\n",
       "35      0.009613      x36\n",
       "84      0.009549      x86\n",
       "96      0.009446      x99\n",
       "74      0.009430      x75\n",
       "63      0.009421      x64\n",
       "61      0.009337      x62\n",
       "45      0.009325      x46\n",
       "59      0.009296      x60\n",
       "38      0.009071      x39\n",
       "89      0.008923      x92\n",
       "72      0.008875      x73\n",
       "19      0.008810      x19\n",
       "30      0.008678      x31\n",
       "44      0.008551      x45\n",
       "117     0.008550     x122\n",
       "36      0.008114      x37\n",
       "28      0.008077      x29\n",
       "112     0.007857     x117\n",
       "70      0.007817      x71\n",
       "86      0.007267      x88\n",
       "23      0.007218      x24"
      ]
     },
     "execution_count": 35,
     "metadata": {},
     "output_type": "execute_result"
    }
   ],
   "source": [
    "#based on Random Forest\n",
    "feat_imp_RF = pd.DataFrame(RF.feature_importances_, columns = ['Importances']).join(pd.DataFrame(X_train.columns,columns = ['Features']))\n",
    "feat_imp_RF = feat_imp_RF.sort_values(by='Importances', ascending = False)\n",
    "feat_imp_RF.head(50)"
   ]
  },
  {
   "cell_type": "markdown",
   "metadata": {},
   "source": [
    "##### Next is based on shuffling data. the illustration will be shown by this illustration\n",
    "<img src=\"feature impact explanation.jpg\" width=\"720\" height=\"720\" align=\"center\"/>"
   ]
  },
  {
   "cell_type": "code",
   "execution_count": 36,
   "metadata": {},
   "outputs": [],
   "source": [
    "#based on shuffling data. the illustration is shown above\n",
    "kolom = []\n",
    "nonshuffle = []\n",
    "shuffle = []\n",
    "scoring = []\n",
    "datashuf = X_train.copy()\n",
    "for i in range(len(datashuf.columns)):\n",
    "    datashuf = X_train.copy()\n",
    "    kolom.append(datashuf.columns[i])\n",
    "    y_predictnoshuf = LGBM.predict_proba(X_train)[:,1]\n",
    "    datashuf[datashuf.columns[i]] = np.random.permutation(datashuf[datashuf.columns[i]].values)\n",
    "    y_predictshuf = LGBM.predict_proba(datashuf)[:,1]\n",
    "    delta = sum(abs(y_predictnoshuf-y_predictshuf))\n",
    "    scoring.append(delta)\n",
    "\n",
    "Scoring_num = pd.DataFrame(scoring, index = datashuf.columns, columns = ['Importance']).sort_values('Importance', ascending=False).reset_index()"
   ]
  },
  {
   "cell_type": "code",
   "execution_count": 37,
   "metadata": {
    "scrolled": true
   },
   "outputs": [
    {
     "data": {
      "text/html": [
       "<div>\n",
       "<style scoped>\n",
       "    .dataframe tbody tr th:only-of-type {\n",
       "        vertical-align: middle;\n",
       "    }\n",
       "\n",
       "    .dataframe tbody tr th {\n",
       "        vertical-align: top;\n",
       "    }\n",
       "\n",
       "    .dataframe thead th {\n",
       "        text-align: right;\n",
       "    }\n",
       "</style>\n",
       "<table border=\"1\" class=\"dataframe\">\n",
       "  <thead>\n",
       "    <tr style=\"text-align: right;\">\n",
       "      <th></th>\n",
       "      <th>index</th>\n",
       "      <th>Importance</th>\n",
       "    </tr>\n",
       "  </thead>\n",
       "  <tbody>\n",
       "    <tr>\n",
       "      <td>0</td>\n",
       "      <td>x44</td>\n",
       "      <td>3143.928906</td>\n",
       "    </tr>\n",
       "    <tr>\n",
       "      <td>1</td>\n",
       "      <td>x17</td>\n",
       "      <td>2719.865136</td>\n",
       "    </tr>\n",
       "    <tr>\n",
       "      <td>2</td>\n",
       "      <td>x67</td>\n",
       "      <td>1999.861659</td>\n",
       "    </tr>\n",
       "    <tr>\n",
       "      <td>3</td>\n",
       "      <td>x96</td>\n",
       "      <td>1272.030583</td>\n",
       "    </tr>\n",
       "    <tr>\n",
       "      <td>4</td>\n",
       "      <td>x68</td>\n",
       "      <td>1247.155880</td>\n",
       "    </tr>\n",
       "    <tr>\n",
       "      <td>5</td>\n",
       "      <td>x12</td>\n",
       "      <td>1074.979894</td>\n",
       "    </tr>\n",
       "    <tr>\n",
       "      <td>6</td>\n",
       "      <td>x119</td>\n",
       "      <td>1069.433015</td>\n",
       "    </tr>\n",
       "    <tr>\n",
       "      <td>7</td>\n",
       "      <td>x102</td>\n",
       "      <td>971.230951</td>\n",
       "    </tr>\n",
       "    <tr>\n",
       "      <td>8</td>\n",
       "      <td>x59</td>\n",
       "      <td>897.135318</td>\n",
       "    </tr>\n",
       "    <tr>\n",
       "      <td>9</td>\n",
       "      <td>x109</td>\n",
       "      <td>886.396569</td>\n",
       "    </tr>\n",
       "    <tr>\n",
       "      <td>10</td>\n",
       "      <td>x41</td>\n",
       "      <td>877.258571</td>\n",
       "    </tr>\n",
       "    <tr>\n",
       "      <td>11</td>\n",
       "      <td>x105</td>\n",
       "      <td>866.272377</td>\n",
       "    </tr>\n",
       "    <tr>\n",
       "      <td>12</td>\n",
       "      <td>x117</td>\n",
       "      <td>848.121738</td>\n",
       "    </tr>\n",
       "    <tr>\n",
       "      <td>13</td>\n",
       "      <td>x15</td>\n",
       "      <td>815.043861</td>\n",
       "    </tr>\n",
       "    <tr>\n",
       "      <td>14</td>\n",
       "      <td>x86</td>\n",
       "      <td>697.499326</td>\n",
       "    </tr>\n",
       "    <tr>\n",
       "      <td>15</td>\n",
       "      <td>x99</td>\n",
       "      <td>655.248282</td>\n",
       "    </tr>\n",
       "    <tr>\n",
       "      <td>16</td>\n",
       "      <td>x55</td>\n",
       "      <td>618.536210</td>\n",
       "    </tr>\n",
       "    <tr>\n",
       "      <td>17</td>\n",
       "      <td>x72</td>\n",
       "      <td>606.364689</td>\n",
       "    </tr>\n",
       "    <tr>\n",
       "      <td>18</td>\n",
       "      <td>x36</td>\n",
       "      <td>603.913267</td>\n",
       "    </tr>\n",
       "    <tr>\n",
       "      <td>19</td>\n",
       "      <td>x50</td>\n",
       "      <td>596.222211</td>\n",
       "    </tr>\n",
       "    <tr>\n",
       "      <td>20</td>\n",
       "      <td>x4</td>\n",
       "      <td>590.442170</td>\n",
       "    </tr>\n",
       "    <tr>\n",
       "      <td>21</td>\n",
       "      <td>x106</td>\n",
       "      <td>479.918889</td>\n",
       "    </tr>\n",
       "    <tr>\n",
       "      <td>22</td>\n",
       "      <td>x103</td>\n",
       "      <td>383.674082</td>\n",
       "    </tr>\n",
       "    <tr>\n",
       "      <td>23</td>\n",
       "      <td>x57</td>\n",
       "      <td>367.090141</td>\n",
       "    </tr>\n",
       "    <tr>\n",
       "      <td>24</td>\n",
       "      <td>x65</td>\n",
       "      <td>358.644900</td>\n",
       "    </tr>\n",
       "    <tr>\n",
       "      <td>25</td>\n",
       "      <td>x53</td>\n",
       "      <td>354.634143</td>\n",
       "    </tr>\n",
       "    <tr>\n",
       "      <td>26</td>\n",
       "      <td>x35</td>\n",
       "      <td>352.925293</td>\n",
       "    </tr>\n",
       "    <tr>\n",
       "      <td>27</td>\n",
       "      <td>x31</td>\n",
       "      <td>326.272934</td>\n",
       "    </tr>\n",
       "    <tr>\n",
       "      <td>28</td>\n",
       "      <td>x107</td>\n",
       "      <td>321.480139</td>\n",
       "    </tr>\n",
       "    <tr>\n",
       "      <td>29</td>\n",
       "      <td>x37</td>\n",
       "      <td>316.848743</td>\n",
       "    </tr>\n",
       "    <tr>\n",
       "      <td>30</td>\n",
       "      <td>x28</td>\n",
       "      <td>315.659480</td>\n",
       "    </tr>\n",
       "    <tr>\n",
       "      <td>31</td>\n",
       "      <td>x82</td>\n",
       "      <td>315.495343</td>\n",
       "    </tr>\n",
       "    <tr>\n",
       "      <td>32</td>\n",
       "      <td>x91</td>\n",
       "      <td>301.212789</td>\n",
       "    </tr>\n",
       "    <tr>\n",
       "      <td>33</td>\n",
       "      <td>x92</td>\n",
       "      <td>277.588755</td>\n",
       "    </tr>\n",
       "    <tr>\n",
       "      <td>34</td>\n",
       "      <td>x64</td>\n",
       "      <td>270.943386</td>\n",
       "    </tr>\n",
       "    <tr>\n",
       "      <td>35</td>\n",
       "      <td>x71</td>\n",
       "      <td>270.662885</td>\n",
       "    </tr>\n",
       "    <tr>\n",
       "      <td>36</td>\n",
       "      <td>x62</td>\n",
       "      <td>268.538706</td>\n",
       "    </tr>\n",
       "    <tr>\n",
       "      <td>37</td>\n",
       "      <td>x61</td>\n",
       "      <td>265.792691</td>\n",
       "    </tr>\n",
       "    <tr>\n",
       "      <td>38</td>\n",
       "      <td>x13</td>\n",
       "      <td>210.558531</td>\n",
       "    </tr>\n",
       "    <tr>\n",
       "      <td>39</td>\n",
       "      <td>x19</td>\n",
       "      <td>204.598804</td>\n",
       "    </tr>\n",
       "    <tr>\n",
       "      <td>40</td>\n",
       "      <td>x45</td>\n",
       "      <td>200.902887</td>\n",
       "    </tr>\n",
       "    <tr>\n",
       "      <td>41</td>\n",
       "      <td>x75</td>\n",
       "      <td>188.934557</td>\n",
       "    </tr>\n",
       "    <tr>\n",
       "      <td>42</td>\n",
       "      <td>x118</td>\n",
       "      <td>169.498549</td>\n",
       "    </tr>\n",
       "    <tr>\n",
       "      <td>43</td>\n",
       "      <td>x18</td>\n",
       "      <td>168.650433</td>\n",
       "    </tr>\n",
       "    <tr>\n",
       "      <td>44</td>\n",
       "      <td>x122</td>\n",
       "      <td>163.121678</td>\n",
       "    </tr>\n",
       "    <tr>\n",
       "      <td>45</td>\n",
       "      <td>x124</td>\n",
       "      <td>162.305291</td>\n",
       "    </tr>\n",
       "    <tr>\n",
       "      <td>46</td>\n",
       "      <td>x110</td>\n",
       "      <td>143.283303</td>\n",
       "    </tr>\n",
       "    <tr>\n",
       "      <td>47</td>\n",
       "      <td>x56</td>\n",
       "      <td>133.882715</td>\n",
       "    </tr>\n",
       "    <tr>\n",
       "      <td>48</td>\n",
       "      <td>x93</td>\n",
       "      <td>132.271097</td>\n",
       "    </tr>\n",
       "    <tr>\n",
       "      <td>49</td>\n",
       "      <td>x63</td>\n",
       "      <td>123.961913</td>\n",
       "    </tr>\n",
       "  </tbody>\n",
       "</table>\n",
       "</div>"
      ],
      "text/plain": [
       "   index   Importance\n",
       "0    x44  3143.928906\n",
       "1    x17  2719.865136\n",
       "2    x67  1999.861659\n",
       "3    x96  1272.030583\n",
       "4    x68  1247.155880\n",
       "5    x12  1074.979894\n",
       "6   x119  1069.433015\n",
       "7   x102   971.230951\n",
       "8    x59   897.135318\n",
       "9   x109   886.396569\n",
       "10   x41   877.258571\n",
       "11  x105   866.272377\n",
       "12  x117   848.121738\n",
       "13   x15   815.043861\n",
       "14   x86   697.499326\n",
       "15   x99   655.248282\n",
       "16   x55   618.536210\n",
       "17   x72   606.364689\n",
       "18   x36   603.913267\n",
       "19   x50   596.222211\n",
       "20    x4   590.442170\n",
       "21  x106   479.918889\n",
       "22  x103   383.674082\n",
       "23   x57   367.090141\n",
       "24   x65   358.644900\n",
       "25   x53   354.634143\n",
       "26   x35   352.925293\n",
       "27   x31   326.272934\n",
       "28  x107   321.480139\n",
       "29   x37   316.848743\n",
       "30   x28   315.659480\n",
       "31   x82   315.495343\n",
       "32   x91   301.212789\n",
       "33   x92   277.588755\n",
       "34   x64   270.943386\n",
       "35   x71   270.662885\n",
       "36   x62   268.538706\n",
       "37   x61   265.792691\n",
       "38   x13   210.558531\n",
       "39   x19   204.598804\n",
       "40   x45   200.902887\n",
       "41   x75   188.934557\n",
       "42  x118   169.498549\n",
       "43   x18   168.650433\n",
       "44  x122   163.121678\n",
       "45  x124   162.305291\n",
       "46  x110   143.283303\n",
       "47   x56   133.882715\n",
       "48   x93   132.271097\n",
       "49   x63   123.961913"
      ]
     },
     "execution_count": 37,
     "metadata": {},
     "output_type": "execute_result"
    }
   ],
   "source": [
    "Scoring_num.head(50)"
   ]
  },
  {
   "cell_type": "markdown",
   "metadata": {},
   "source": [
    "#### Conclusion : based on feature importance Random Forest, feature importance Feature modelling, feature impact and correlation, I could get the list of features that will be used in the final modelling. \n",
    "I basically could know which feature get which rank from all those 4 consideration. To sum up, it's easily displayed by heatmap down below. \n",
    "<img src=\"heatmap of feature ranking.png\" width=\"720\" height=\"720\" align=\"center\"/>"
   ]
  },
  {
   "cell_type": "markdown",
   "metadata": {},
   "source": [
    "After x61 feature that has average rank 38, the average rank is dropped. That's why I decide x61 as the last feature that I will use for modelling"
   ]
  },
  {
   "cell_type": "markdown",
   "metadata": {},
   "source": [
    "## 3. Modelling (with only selected feature)"
   ]
  },
  {
   "cell_type": "markdown",
   "metadata": {},
   "source": [
    "### 3.1 Define selected feature and train test split "
   ]
  },
  {
   "cell_type": "code",
   "execution_count": 63,
   "metadata": {},
   "outputs": [],
   "source": [
    "#define selected feature\n",
    "X_new = data[['x17', 'x15', 'x44', 'x68', 'x119','x67','x96',\n",
    "              'x12','x59','x4','x105','x109','x102','x117',\n",
    "              'x50','x61']]\n",
    "y_new = data['y']"
   ]
  },
  {
   "cell_type": "code",
   "execution_count": 64,
   "metadata": {},
   "outputs": [],
   "source": [
    "#train test split\n",
    "X_train_new, X_test_new, y_train_new, y_test_new = train_test_split(X_new,y_new,test_size = 0.2)"
   ]
  },
  {
   "cell_type": "markdown",
   "metadata": {},
   "source": [
    "### 3.2 Try Random Forest model and Light Gradient Boosting Model with selected feature"
   ]
  },
  {
   "cell_type": "code",
   "execution_count": 65,
   "metadata": {},
   "outputs": [],
   "source": [
    "#fit Random Forest model to new dataset with selected feature\n",
    "RF_new = RandomForestClassifier()\n",
    "RF_new.fit(X_train_new, y_train_new)\n",
    "\n",
    "#use  model to make predictions\n",
    "y_score_RF_new = RF_new.predict_proba(X_test_new)[:, 1]"
   ]
  },
  {
   "cell_type": "code",
   "execution_count": 66,
   "metadata": {},
   "outputs": [],
   "source": [
    "#fit Light Gradient Boosting model to new dataset with selected feature\n",
    "LGBM_new = lgb.LGBMClassifier()\n",
    "LGBM_new.fit(X_train_new, y_train_new)\n",
    "\n",
    "#use  model to make predictions\n",
    "y_score_LGBM_new = LGBM_new.predict_proba(X_test_new)[:, 1]"
   ]
  },
  {
   "cell_type": "markdown",
   "metadata": {},
   "source": [
    "### 3.3 Evaluate the performance of those two models by using \n",
    "- accuracy\n",
    "- confusion matrix\n",
    "- PR curve\n",
    "\n",
    "#### so we could decide which final model that we will tune its hyperparameter\n",
    "\n",
    "### 3.3.1 By accuracy"
   ]
  },
  {
   "cell_type": "code",
   "execution_count": 67,
   "metadata": {},
   "outputs": [
    {
     "name": "stdout",
     "output_type": "stream",
     "text": [
      "\n",
      "Score Random Forest:  0.8914622529173613\n"
     ]
    }
   ],
   "source": [
    "print(\"\\nScore Random Forest: \", RF_new.score(X_test_new,y_test_new))"
   ]
  },
  {
   "cell_type": "code",
   "execution_count": 68,
   "metadata": {},
   "outputs": [
    {
     "name": "stdout",
     "output_type": "stream",
     "text": [
      "\n",
      "Score Light Gradient Boosting :  0.8874732079066444\n"
     ]
    }
   ],
   "source": [
    "print(\"\\nScore Light Gradient Boosting : \", LGBM_new.score(X_test_new,y_test_new))"
   ]
  },
  {
   "cell_type": "markdown",
   "metadata": {},
   "source": [
    "### 3.3.2 By Confusion Matrix"
   ]
  },
  {
   "cell_type": "code",
   "execution_count": 69,
   "metadata": {},
   "outputs": [],
   "source": [
    "#check another metric, which is confusion matrix and accuracy\n",
    "RFmodel_conf_mat = pd.DataFrame(confusion_matrix(y_test_new,RF_new.predict(X_test_new)), \n",
    "                                index = ['Actual 0', 'Actual 1'], \n",
    "                                columns = ['Predict 0', 'Predict 1'])"
   ]
  },
  {
   "cell_type": "code",
   "execution_count": 70,
   "metadata": {},
   "outputs": [
    {
     "data": {
      "text/html": [
       "<div>\n",
       "<style scoped>\n",
       "    .dataframe tbody tr th:only-of-type {\n",
       "        vertical-align: middle;\n",
       "    }\n",
       "\n",
       "    .dataframe tbody tr th {\n",
       "        vertical-align: top;\n",
       "    }\n",
       "\n",
       "    .dataframe thead th {\n",
       "        text-align: right;\n",
       "    }\n",
       "</style>\n",
       "<table border=\"1\" class=\"dataframe\">\n",
       "  <thead>\n",
       "    <tr style=\"text-align: right;\">\n",
       "      <th></th>\n",
       "      <th>Predict 0</th>\n",
       "      <th>Predict 1</th>\n",
       "    </tr>\n",
       "  </thead>\n",
       "  <tbody>\n",
       "    <tr>\n",
       "      <td>Actual 0</td>\n",
       "      <td>13819</td>\n",
       "      <td>125</td>\n",
       "    </tr>\n",
       "    <tr>\n",
       "      <td>Actual 1</td>\n",
       "      <td>1698</td>\n",
       "      <td>1154</td>\n",
       "    </tr>\n",
       "  </tbody>\n",
       "</table>\n",
       "</div>"
      ],
      "text/plain": [
       "          Predict 0  Predict 1\n",
       "Actual 0      13819        125\n",
       "Actual 1       1698       1154"
      ]
     },
     "execution_count": 70,
     "metadata": {},
     "output_type": "execute_result"
    }
   ],
   "source": [
    "RFmodel_conf_mat"
   ]
  },
  {
   "cell_type": "code",
   "execution_count": 71,
   "metadata": {},
   "outputs": [],
   "source": [
    "#check another metric, which is confusion matrix and accuracy\n",
    "LGBmodel_conf_mat = pd.DataFrame(confusion_matrix(y_test_new,LGBM_new.predict(X_test_new)), \n",
    "                                 index = ['Actual 0', 'Actual 1'], \n",
    "                                 columns = ['Predict 0', 'Predict 1'])"
   ]
  },
  {
   "cell_type": "code",
   "execution_count": 72,
   "metadata": {},
   "outputs": [
    {
     "data": {
      "text/html": [
       "<div>\n",
       "<style scoped>\n",
       "    .dataframe tbody tr th:only-of-type {\n",
       "        vertical-align: middle;\n",
       "    }\n",
       "\n",
       "    .dataframe tbody tr th {\n",
       "        vertical-align: top;\n",
       "    }\n",
       "\n",
       "    .dataframe thead th {\n",
       "        text-align: right;\n",
       "    }\n",
       "</style>\n",
       "<table border=\"1\" class=\"dataframe\">\n",
       "  <thead>\n",
       "    <tr style=\"text-align: right;\">\n",
       "      <th></th>\n",
       "      <th>Predict 0</th>\n",
       "      <th>Predict 1</th>\n",
       "    </tr>\n",
       "  </thead>\n",
       "  <tbody>\n",
       "    <tr>\n",
       "      <td>Actual 0</td>\n",
       "      <td>13802</td>\n",
       "      <td>142</td>\n",
       "    </tr>\n",
       "    <tr>\n",
       "      <td>Actual 1</td>\n",
       "      <td>1748</td>\n",
       "      <td>1104</td>\n",
       "    </tr>\n",
       "  </tbody>\n",
       "</table>\n",
       "</div>"
      ],
      "text/plain": [
       "          Predict 0  Predict 1\n",
       "Actual 0      13802        142\n",
       "Actual 1       1748       1104"
      ]
     },
     "execution_count": 72,
     "metadata": {},
     "output_type": "execute_result"
    }
   ],
   "source": [
    "LGBmodel_conf_mat"
   ]
  },
  {
   "cell_type": "markdown",
   "metadata": {},
   "source": [
    "### 3.3.3 By PR Curve"
   ]
  },
  {
   "cell_type": "code",
   "execution_count": 73,
   "metadata": {},
   "outputs": [
    {
     "data": {
      "image/png": "[encoded data removed]",
      "text/plain": [
       "<Figure size 432x288 with 1 Axes>"
      ]
     },
     "metadata": {},
     "output_type": "display_data"
    }
   ],
   "source": [
    "#calculate precision and recall\n",
    "precision_RF_new, recall_RF_new, thresholds_RF_new = precision_recall_curve(y_test_new, y_score_RF_new)\n",
    "precision_LGB_new, recall_LGB_new, thresholds_LGB_new = precision_recall_curve(y_test_new, y_score_LGBM_new)\n",
    "\n",
    "#create precision recall curve\n",
    "fig, ax = plt.subplots()\n",
    "ax.plot(recall_RF_new, precision_RF_new, color='purple')\n",
    "ax.plot(recall_LGB_new, precision_LGB_new, color='blue')\n",
    "\n",
    "#add axis labels to plot\n",
    "ax.set_title('Precision-Recall Curve')\n",
    "ax.set_ylabel('Precision')\n",
    "ax.set_xlabel('Recall')\n",
    "\n",
    "#display plot\n",
    "plt.show()"
   ]
  },
  {
   "cell_type": "markdown",
   "metadata": {},
   "source": [
    "#### Conclusion : Random Forest has better performance rather than Light Gradient Boosting, based on accuracy, confusion matrix and PR curve, "
   ]
  },
  {
   "cell_type": "markdown",
   "metadata": {},
   "source": [
    "### 3.4 Hyperparameter tuning\n",
    "#### Find the best hyperparameter with randomized search cv from sklearn "
   ]
  },
  {
   "cell_type": "code",
   "execution_count": 50,
   "metadata": {},
   "outputs": [],
   "source": [
    "from sklearn.model_selection import RandomizedSearchCV\n",
    "# Number of trees in random forest\n",
    "n_estimators = [int(x) for x in np.linspace(start = 200, stop = 2000, num = 10)]\n",
    "# Number of features to consider at every split\n",
    "max_features = ['auto', 'sqrt']\n",
    "# Maximum number of levels in tree\n",
    "max_depth = [int(x) for x in np.linspace(10, 110, num = 11)]\n",
    "max_depth.append(None)\n",
    "# Minimum number of samples required to split a node\n",
    "min_samples_split = [2, 5, 10]\n",
    "# Minimum number of samples required at each leaf node\n",
    "min_samples_leaf = [1, 2, 4]\n",
    "# Method of selecting samples for training each tree\n",
    "bootstrap = [True, False]\n",
    "# Create the random grid\n",
    "random_grid = {'n_estimators': n_estimators,\n",
    "               'max_features': max_features,\n",
    "               'max_depth': max_depth,\n",
    "               'min_samples_split': min_samples_split,\n",
    "               'min_samples_leaf': min_samples_leaf,\n",
    "               'bootstrap': bootstrap}"
   ]
  },
  {
   "cell_type": "code",
   "execution_count": 52,
   "metadata": {},
   "outputs": [
    {
     "name": "stdout",
     "output_type": "stream",
     "text": [
      "Fitting 3 folds for each of 100 candidates, totalling 300 fits\n"
     ]
    },
    {
     "data": {
      "text/plain": [
       "RandomizedSearchCV(cv=3, estimator=RandomForestClassifier(), n_iter=100,\n",
       "                   n_jobs=-1,\n",
       "                   param_distributions={'bootstrap': [True, False],\n",
       "                                        'max_depth': [10, 20, 30, 40, 50, 60,\n",
       "                                                      70, 80, 90, 100, 110,\n",
       "                                                      None],\n",
       "                                        'max_features': ['auto', 'sqrt'],\n",
       "                                        'min_samples_leaf': [1, 2, 4],\n",
       "                                        'min_samples_split': [2, 5, 10],\n",
       "                                        'n_estimators': [200, 400, 600, 800,\n",
       "                                                         1000, 1200, 1400, 1600,\n",
       "                                                         1800, 2000]},\n",
       "                   random_state=42, verbose=2)"
      ]
     },
     "execution_count": 52,
     "metadata": {},
     "output_type": "execute_result"
    }
   ],
   "source": [
    "# CAUTION : code below is already executed. Please don't execute it again since the best parameter is already known and shown below\n",
    "# EXCEPT we want to try other method and change the range of hyperparameter above\n",
    "\n",
    "# Use the random grid to search for best hyperparameters\n",
    "\n",
    "# Random search of parameters, using 3 fold cross validation, \n",
    "# search across 100 different combinations, and use all available cores\n",
    "rf_random = RandomizedSearchCV(estimator = RF_new, param_distributions = random_grid, n_iter = 100, cv = 3, verbose=2, \n",
    "                               random_state=42, n_jobs = -1)\n",
    "# Fit the random search model\n",
    "rf_random.fit(X_train_new, y_train_new)"
   ]
  },
  {
   "cell_type": "code",
   "execution_count": 53,
   "metadata": {},
   "outputs": [
    {
     "data": {
      "text/plain": [
       "{'n_estimators': 1000,\n",
       " 'min_samples_split': 2,\n",
       " 'min_samples_leaf': 1,\n",
       " 'max_features': 'auto',\n",
       " 'max_depth': 50,\n",
       " 'bootstrap': False}"
      ]
     },
     "execution_count": 53,
     "metadata": {},
     "output_type": "execute_result"
    }
   ],
   "source": [
    "rf_random.best_params_"
   ]
  },
  {
   "cell_type": "markdown",
   "metadata": {},
   "source": [
    "#### Conclusion : the best hyperparameter for random forest model are : \n",
    "- n_estimators': 1000,\n",
    "- min_samples_split': 2,\n",
    "- min_samples_leaf': 1,\n",
    "- max_features': 'auto',\n",
    "- max_depth': 50,\n",
    "- bootstrap': False"
   ]
  },
  {
   "cell_type": "code",
   "execution_count": 74,
   "metadata": {},
   "outputs": [],
   "source": [
    "#fit Random Forest model with hyperparameter tuned with new dataset\n",
    "RF_tuned = RandomForestClassifier(n_estimators = 1000,\n",
    " min_samples_split = 2,\n",
    " min_samples_leaf = 1,\n",
    " max_features = 'auto',\n",
    " max_depth = 50,\n",
    " bootstrap = False)\n",
    "\n",
    "RF_tuned.fit(X_train_new, y_train_new)\n",
    "\n",
    "#use  model to make predictions\n",
    "y_score_RF_tuned = RF_tuned.predict_proba(X_test_new)[:, 1]"
   ]
  },
  {
   "cell_type": "markdown",
   "metadata": {},
   "source": [
    "# 4. Evaluation\n",
    "Check the improvement after we conduct hyperparameter tuning to random forest"
   ]
  },
  {
   "cell_type": "markdown",
   "metadata": {},
   "source": [
    "## 4.1 Check Accuracy"
   ]
  },
  {
   "cell_type": "code",
   "execution_count": 49,
   "metadata": {},
   "outputs": [
    {
     "name": "stdout",
     "output_type": "stream",
     "text": [
      "\n",
      "Score :  0.8939628482972136\n"
     ]
    }
   ],
   "source": [
    "#check other metric, which is confusion matrix and accuracy\n",
    "print(\"\\nScore of Random Forest after hyperparameter tuning : \", RF_tuned.score(X_test_new,y_test_new))"
   ]
  },
  {
   "cell_type": "markdown",
   "metadata": {},
   "source": [
    "## 4.2 Check confusion matrix"
   ]
  },
  {
   "cell_type": "code",
   "execution_count": null,
   "metadata": {},
   "outputs": [],
   "source": [
    "RFmodel_tuned_conf_mat = pd.DataFrame(confusion_matrix(y_test_new,RF_tuned.predict(X_test_new)), index = ['Actual 0', 'Actual 1'], columns = ['Predict 0', 'Predict 1'])"
   ]
  },
  {
   "cell_type": "code",
   "execution_count": 50,
   "metadata": {},
   "outputs": [
    {
     "data": {
      "text/html": [
       "<div>\n",
       "<style scoped>\n",
       "    .dataframe tbody tr th:only-of-type {\n",
       "        vertical-align: middle;\n",
       "    }\n",
       "\n",
       "    .dataframe tbody tr th {\n",
       "        vertical-align: top;\n",
       "    }\n",
       "\n",
       "    .dataframe thead th {\n",
       "        text-align: right;\n",
       "    }\n",
       "</style>\n",
       "<table border=\"1\" class=\"dataframe\">\n",
       "  <thead>\n",
       "    <tr style=\"text-align: right;\">\n",
       "      <th></th>\n",
       "      <th>Predict 0</th>\n",
       "      <th>Predict 1</th>\n",
       "    </tr>\n",
       "  </thead>\n",
       "  <tbody>\n",
       "    <tr>\n",
       "      <td>Actual 0</td>\n",
       "      <td>13889</td>\n",
       "      <td>115</td>\n",
       "    </tr>\n",
       "    <tr>\n",
       "      <td>Actual 1</td>\n",
       "      <td>1666</td>\n",
       "      <td>1126</td>\n",
       "    </tr>\n",
       "  </tbody>\n",
       "</table>\n",
       "</div>"
      ],
      "text/plain": [
       "          Predict 0  Predict 1\n",
       "Actual 0      13889        115\n",
       "Actual 1       1666       1126"
      ]
     },
     "execution_count": 50,
     "metadata": {},
     "output_type": "execute_result"
    }
   ],
   "source": [
    "RFmodel_tuned_conf_mat"
   ]
  },
  {
   "cell_type": "markdown",
   "metadata": {},
   "source": [
    "## 4.3 Check PR curve"
   ]
  },
  {
   "cell_type": "code",
   "execution_count": 48,
   "metadata": {},
   "outputs": [
    {
     "data": {
      "image/png": "[encoded data removed]",
      "text/plain": [
       "<Figure size 432x288 with 1 Axes>"
      ]
     },
     "metadata": {},
     "output_type": "display_data"
    }
   ],
   "source": [
    "#calculate precision and recall\n",
    "precision_RF_new, recall_RF_new, thresholds_RF_new = precision_recall_curve(y_test_new, y_score_RF_new)\n",
    "precision_RF_tuned, recall_RF_tuned, thresholds_RF_tuned = precision_recall_curve(y_test_new, y_score_RF_tuned)\n",
    "\n",
    "#create precision recall curve\n",
    "fig, ax = plt.subplots()\n",
    "ax.plot(recall_RF_new, precision_RF_new, color='purple')\n",
    "ax.plot(recall_RF_tuned, precision_RF_tuned, color='blue')\n",
    "\n",
    "#add axis labels to plot\n",
    "ax.set_title('Precision-Recall Curve')\n",
    "ax.set_ylabel('Precision')\n",
    "ax.set_xlabel('Recall')\n",
    "\n",
    "#display plot\n",
    "plt.show()"
   ]
  },
  {
   "cell_type": "markdown",
   "metadata": {},
   "source": [
    "#### Conclusion : from accuracy, confusion matrix and PR curve, the random forest after hyperparameter tuning has slight improvement"
   ]
  },
  {
   "cell_type": "markdown",
   "metadata": {},
   "source": [
    "## 4.4 Use K - FOLD  \n",
    "with K-FOLD to make sure the model is stable enough (not overfitting in a specific part of dataset)"
   ]
  },
  {
   "cell_type": "code",
   "execution_count": 76,
   "metadata": {},
   "outputs": [],
   "source": [
    "from sklearn.model_selection import KFold"
   ]
  },
  {
   "cell_type": "code",
   "execution_count": 79,
   "metadata": {},
   "outputs": [
    {
     "name": "stdout",
     "output_type": "stream",
     "text": [
      "Score in Random Forest_RF: 89.04501071683735 %\n",
      "Score in Random Forest_RF: 88.98547273160277 %\n",
      "Score in Random Forest_RF: 88.90211955227436 %\n",
      "Score in Random Forest_RF: 89.8428197189807 %\n",
      "Score in Random Forest_RF: 90.04524886877829 %\n",
      "Score in Random Forest_RF: 89.40223862824482 %\n",
      "Score in Random Forest_RF: 89.43670358461355 %\n",
      "Score in Random Forest_RF: 89.66297487197808 %\n",
      "Score in Random Forest_RF: 89.21043229724901 %\n",
      "Score in Random Forest_RF: 89.32952244849352 %\n",
      "\n",
      "Mean : 89.38625434190526 %\n"
     ]
    }
   ],
   "source": [
    "Kfmodel = KFold(n_splits=10)\n",
    "RFmodel_k = RF_tuned\n",
    "feature_k = X_new\n",
    "target_k = y_new\n",
    "\n",
    "#Feature Separation\n",
    "X_yey_RF = feature_k.values\n",
    "\n",
    "#Target Separation\n",
    "y_eks_RF = target_k.values\n",
    "\n",
    "Results = []\n",
    "i = 0\n",
    "confusion = np.array([[0,0],[0,0]])\n",
    "for tr_in, te_in in Kfmodel.split(X_yey_RF):\n",
    "    X_train_RF, X_test_RF = X_yey_RF[tr_in], X_yey_RF[te_in]\n",
    "    y_train_RF, y_test_RF = y_eks_RF[tr_in], y_eks_RF[te_in]\n",
    "    RFmodel_k.fit(X_train_RF,y_train_RF)\n",
    "    score = RFmodel_k.score(X_test_RF, y_test_RF)\n",
    "    \n",
    "    confusion = confusion + confusion_matrix(y_test_RF,RF_tuned.predict(X_test_RF))\n",
    "    \n",
    "    print(\"Score in Random Forest_RF:\",(score*100),\"%\")\n",
    "    Results.append(score)\n",
    "    i+=1\n",
    "\n",
    "confusion_mean_RF = pd.DataFrame(confusion/10, index = ['Actual 0', 'Actual 1'], columns = ['Prediction 0', 'Prediction 1'])\n",
    "\n",
    "Results = np.array(Results)\n",
    "Mean_Results = Results.mean()\n",
    "print (\"\\nMean :\", Results.mean()*100,\"%\")\n",
    "\n"
   ]
  },
  {
   "cell_type": "code",
   "execution_count": 80,
   "metadata": {},
   "outputs": [
    {
     "data": {
      "text/html": [
       "<div>\n",
       "<style scoped>\n",
       "    .dataframe tbody tr th:only-of-type {\n",
       "        vertical-align: middle;\n",
       "    }\n",
       "\n",
       "    .dataframe tbody tr th {\n",
       "        vertical-align: top;\n",
       "    }\n",
       "\n",
       "    .dataframe thead th {\n",
       "        text-align: right;\n",
       "    }\n",
       "</style>\n",
       "<table border=\"1\" class=\"dataframe\">\n",
       "  <thead>\n",
       "    <tr style=\"text-align: right;\">\n",
       "      <th></th>\n",
       "      <th>Prediction 0</th>\n",
       "      <th>Prediction 1</th>\n",
       "    </tr>\n",
       "  </thead>\n",
       "  <tbody>\n",
       "    <tr>\n",
       "      <td>Actual 0</td>\n",
       "      <td>6905.4</td>\n",
       "      <td>63.8</td>\n",
       "    </tr>\n",
       "    <tr>\n",
       "      <td>Actual 1</td>\n",
       "      <td>827.5</td>\n",
       "      <td>600.9</td>\n",
       "    </tr>\n",
       "  </tbody>\n",
       "</table>\n",
       "</div>"
      ],
      "text/plain": [
       "          Prediction 0  Prediction 1\n",
       "Actual 0        6905.4          63.8\n",
       "Actual 1         827.5         600.9"
      ]
     },
     "execution_count": 80,
     "metadata": {},
     "output_type": "execute_result"
    }
   ],
   "source": [
    "#Average confusion matrix from K-FOLD\n",
    "confusion_mean_RF"
   ]
  },
  {
   "cell_type": "markdown",
   "metadata": {},
   "source": [
    "#### Conclusion : we can see from K-FOLD that the this model is stable enough"
   ]
  },
  {
   "cell_type": "markdown",
   "metadata": {},
   "source": [
    "# 5. Predict testing data"
   ]
  },
  {
   "cell_type": "code",
   "execution_count": 59,
   "metadata": {},
   "outputs": [],
   "source": [
    "# import testing data\n",
    "data_test = pd.read_csv('findata_challenge_test.csv')"
   ]
  },
  {
   "cell_type": "code",
   "execution_count": 60,
   "metadata": {},
   "outputs": [
    {
     "data": {
      "text/html": [
       "<div>\n",
       "<style scoped>\n",
       "    .dataframe tbody tr th:only-of-type {\n",
       "        vertical-align: middle;\n",
       "    }\n",
       "\n",
       "    .dataframe tbody tr th {\n",
       "        vertical-align: top;\n",
       "    }\n",
       "\n",
       "    .dataframe thead th {\n",
       "        text-align: right;\n",
       "    }\n",
       "</style>\n",
       "<table border=\"1\" class=\"dataframe\">\n",
       "  <thead>\n",
       "    <tr style=\"text-align: right;\">\n",
       "      <th></th>\n",
       "      <th>x0</th>\n",
       "      <th>x1</th>\n",
       "      <th>x2</th>\n",
       "      <th>x3</th>\n",
       "      <th>x4</th>\n",
       "      <th>x5</th>\n",
       "      <th>x6</th>\n",
       "      <th>x7</th>\n",
       "      <th>x8</th>\n",
       "      <th>x9</th>\n",
       "      <th>...</th>\n",
       "      <th>x115</th>\n",
       "      <th>x116</th>\n",
       "      <th>x117</th>\n",
       "      <th>x118</th>\n",
       "      <th>x119</th>\n",
       "      <th>x120</th>\n",
       "      <th>x121</th>\n",
       "      <th>x122</th>\n",
       "      <th>x123</th>\n",
       "      <th>x124</th>\n",
       "    </tr>\n",
       "  </thead>\n",
       "  <tbody>\n",
       "    <tr>\n",
       "      <td>0</td>\n",
       "      <td>0.403735</td>\n",
       "      <td>-1.966104</td>\n",
       "      <td>-1.322339</td>\n",
       "      <td>0.084642</td>\n",
       "      <td>2.481997</td>\n",
       "      <td>-1.719155</td>\n",
       "      <td>5.0</td>\n",
       "      <td>2.0</td>\n",
       "      <td>-11.546670</td>\n",
       "      <td>-7.073770</td>\n",
       "      <td>...</td>\n",
       "      <td>3.580278</td>\n",
       "      <td>-7.765934</td>\n",
       "      <td>59.0</td>\n",
       "      <td>1.0</td>\n",
       "      <td>-9.897690</td>\n",
       "      <td>5.694125</td>\n",
       "      <td>-6.734618</td>\n",
       "      <td>17.052251</td>\n",
       "      <td>3.601040</td>\n",
       "      <td>2.873498</td>\n",
       "    </tr>\n",
       "    <tr>\n",
       "      <td>1</td>\n",
       "      <td>0.032128</td>\n",
       "      <td>6.516294</td>\n",
       "      <td>-0.939752</td>\n",
       "      <td>0.026937</td>\n",
       "      <td>-0.992999</td>\n",
       "      <td>5.995462</td>\n",
       "      <td>4.0</td>\n",
       "      <td>3.0</td>\n",
       "      <td>-5.634876</td>\n",
       "      <td>1.937998</td>\n",
       "      <td>...</td>\n",
       "      <td>5.783655</td>\n",
       "      <td>15.667015</td>\n",
       "      <td>47.0</td>\n",
       "      <td>1.0</td>\n",
       "      <td>7.781887</td>\n",
       "      <td>9.752716</td>\n",
       "      <td>5.918369</td>\n",
       "      <td>15.922908</td>\n",
       "      <td>5.460557</td>\n",
       "      <td>10.475816</td>\n",
       "    </tr>\n",
       "    <tr>\n",
       "      <td>2</td>\n",
       "      <td>-0.280345</td>\n",
       "      <td>0.930291</td>\n",
       "      <td>-1.028828</td>\n",
       "      <td>-0.050924</td>\n",
       "      <td>-3.164733</td>\n",
       "      <td>6.885108</td>\n",
       "      <td>3.0</td>\n",
       "      <td>2.0</td>\n",
       "      <td>1.609005</td>\n",
       "      <td>-1.812488</td>\n",
       "      <td>...</td>\n",
       "      <td>-0.389116</td>\n",
       "      <td>8.523648</td>\n",
       "      <td>55.0</td>\n",
       "      <td>0.0</td>\n",
       "      <td>6.815214</td>\n",
       "      <td>-3.325532</td>\n",
       "      <td>4.123546</td>\n",
       "      <td>-19.656038</td>\n",
       "      <td>8.380318</td>\n",
       "      <td>-1.203315</td>\n",
       "    </tr>\n",
       "    <tr>\n",
       "      <td>3</td>\n",
       "      <td>-0.313420</td>\n",
       "      <td>-0.568857</td>\n",
       "      <td>-1.576051</td>\n",
       "      <td>-0.003607</td>\n",
       "      <td>5.539969</td>\n",
       "      <td>-1.594770</td>\n",
       "      <td>4.0</td>\n",
       "      <td>3.0</td>\n",
       "      <td>-11.517734</td>\n",
       "      <td>-5.364282</td>\n",
       "      <td>...</td>\n",
       "      <td>3.930974</td>\n",
       "      <td>-13.912115</td>\n",
       "      <td>41.0</td>\n",
       "      <td>0.0</td>\n",
       "      <td>3.158137</td>\n",
       "      <td>-7.088875</td>\n",
       "      <td>-3.035983</td>\n",
       "      <td>34.277048</td>\n",
       "      <td>-3.169203</td>\n",
       "      <td>1.417681</td>\n",
       "    </tr>\n",
       "    <tr>\n",
       "      <td>4</td>\n",
       "      <td>0.108825</td>\n",
       "      <td>-4.815631</td>\n",
       "      <td>5.491084</td>\n",
       "      <td>-0.123928</td>\n",
       "      <td>-1.932024</td>\n",
       "      <td>4.014821</td>\n",
       "      <td>5.0</td>\n",
       "      <td>3.0</td>\n",
       "      <td>-3.117576</td>\n",
       "      <td>2.004889</td>\n",
       "      <td>...</td>\n",
       "      <td>-4.056091</td>\n",
       "      <td>-14.432712</td>\n",
       "      <td>52.0</td>\n",
       "      <td>0.0</td>\n",
       "      <td>-3.867657</td>\n",
       "      <td>-13.308519</td>\n",
       "      <td>1.008302</td>\n",
       "      <td>41.449381</td>\n",
       "      <td>-0.804560</td>\n",
       "      <td>-0.649453</td>\n",
       "    </tr>\n",
       "  </tbody>\n",
       "</table>\n",
       "<p>5 rows × 125 columns</p>\n",
       "</div>"
      ],
      "text/plain": [
       "         x0        x1        x2        x3        x4        x5   x6   x7  \\\n",
       "0  0.403735 -1.966104 -1.322339  0.084642  2.481997 -1.719155  5.0  2.0   \n",
       "1  0.032128  6.516294 -0.939752  0.026937 -0.992999  5.995462  4.0  3.0   \n",
       "2 -0.280345  0.930291 -1.028828 -0.050924 -3.164733  6.885108  3.0  2.0   \n",
       "3 -0.313420 -0.568857 -1.576051 -0.003607  5.539969 -1.594770  4.0  3.0   \n",
       "4  0.108825 -4.815631  5.491084 -0.123928 -1.932024  4.014821  5.0  3.0   \n",
       "\n",
       "          x8        x9  ...      x115       x116  x117  x118      x119  \\\n",
       "0 -11.546670 -7.073770  ...  3.580278  -7.765934  59.0   1.0 -9.897690   \n",
       "1  -5.634876  1.937998  ...  5.783655  15.667015  47.0   1.0  7.781887   \n",
       "2   1.609005 -1.812488  ... -0.389116   8.523648  55.0   0.0  6.815214   \n",
       "3 -11.517734 -5.364282  ...  3.930974 -13.912115  41.0   0.0  3.158137   \n",
       "4  -3.117576  2.004889  ... -4.056091 -14.432712  52.0   0.0 -3.867657   \n",
       "\n",
       "        x120      x121       x122      x123       x124  \n",
       "0   5.694125 -6.734618  17.052251  3.601040   2.873498  \n",
       "1   9.752716  5.918369  15.922908  5.460557  10.475816  \n",
       "2  -3.325532  4.123546 -19.656038  8.380318  -1.203315  \n",
       "3  -7.088875 -3.035983  34.277048 -3.169203   1.417681  \n",
       "4 -13.308519  1.008302  41.449381 -0.804560  -0.649453  \n",
       "\n",
       "[5 rows x 125 columns]"
      ]
     },
     "execution_count": 60,
     "metadata": {},
     "output_type": "execute_result"
    }
   ],
   "source": [
    "# check the head of data test\n",
    "data_test.head()"
   ]
  },
  {
   "cell_type": "code",
   "execution_count": 61,
   "metadata": {},
   "outputs": [],
   "source": [
    "#choose selected feature only\n",
    "X_datatest = data_test[['x17', 'x15', 'x44', 'x68', 'x119','x67','x96',\n",
    "              'x12','x59','x4','x105','x109','x102','x117',\n",
    "              'x50','x61']]"
   ]
  },
  {
   "cell_type": "code",
   "execution_count": 78,
   "metadata": {},
   "outputs": [],
   "source": [
    "#remove NULL values so model can predict \n",
    "X_datatest = X_datatest.dropna()"
   ]
  },
  {
   "cell_type": "code",
   "execution_count": 79,
   "metadata": {},
   "outputs": [],
   "source": [
    "#predict \n",
    "final_prediction = RF_tuned.predict(X_datatest)"
   ]
  },
  {
   "cell_type": "code",
   "execution_count": 85,
   "metadata": {},
   "outputs": [],
   "source": [
    "#save to CSV\n",
    "pd.DataFrame(final_prediction, columns=['Predicted']).to_csv('Anugrah_Muzakki_Puar-submission.csv')"
   ]
  },
  {
   "cell_type": "code",
   "execution_count": 88,
   "metadata": {},
   "outputs": [
    {
     "name": "stdout",
     "output_type": "stream",
     "text": [
      "Requirement already satisfied: joblib in d:\\users\\bsi80086\\appdata\\local\\continuum\\anaconda3\\lib\\site-packages (0.13.2)\n"
     ]
    }
   ],
   "source": [
    "#In case FDC committee need my model too, I can provide it\n",
    "!pip install joblib"
   ]
  },
  {
   "cell_type": "code",
   "execution_count": 90,
   "metadata": {},
   "outputs": [
    {
     "data": {
      "text/plain": [
       "['Anugrah_Muzakki_Puar-FinalModel.sav']"
      ]
     },
     "execution_count": 90,
     "metadata": {},
     "output_type": "execute_result"
    }
   ],
   "source": [
    "import joblib\n",
    "\n",
    "filename= 'Anugrah_Muzakki_Puar-FinalModel.sav'\n",
    "joblib.dump(RF_tuned,filename)"
   ]
  }
 ],
 "metadata": {
  "kernelspec": {
   "display_name": "Python 3",
   "language": "python",
   "name": "python3"
  },
  "language_info": {
   "codemirror_mode": {
    "name": "ipython",
    "version": 3
   },
   "file_extension": ".py",
   "mimetype": "text/x-python",
   "name": "python",
   "nbconvert_exporter": "python",
   "pygments_lexer": "ipython3",
   "version": "3.7.4"
  }
 },
 "nbformat": 4,
 "nbformat_minor": 2
}
